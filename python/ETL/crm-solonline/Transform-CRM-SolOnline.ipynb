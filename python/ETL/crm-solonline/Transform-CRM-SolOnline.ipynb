{
 "cells": [
  {
   "cell_type": "code",
   "execution_count": 1,
   "metadata": {
    "collapsed": true
   },
   "outputs": [],
   "source": [
    "## Importación al bucket iedatalakeprocesss de información extraida del CRM y Solicitud Online \n",
    "## -------------------------------------------------------------------------------------------\n",
    "## Información unificada y transformada para TC LAB (Lab para The Cocktail)\n",
    "\n",
    "import sqlalchemy\n",
    "import csv\n",
    "import string\n",
    "import pandas as pd\n",
    "import os\n",
    "import shutil\n",
    "import datetime\n",
    "import uuid\n",
    "import sys\n",
    "\n",
    "# Importación de opciones de configuración\n",
    "\n",
    "if (os.name == 'nt'):\n",
    "    sys.path.append(os.environ[\"USERPROFILE\"].replace('\\\\', '/') + '/iedatalake/python/config')\n",
    "else: \n",
    "    sys.path.append('/home/ubuntu/iedatalake/python/config')\n",
    "import databaseconfig as dbc\n"
   ]
  },
  {
   "cell_type": "code",
   "execution_count": 2,
   "metadata": {
    "collapsed": true
   },
   "outputs": [],
   "source": [
    "## Proceso, versíón y fecha de la transformación para identificar la ejecución\n",
    "\n",
    "transformationProcess = 'Transformacion de CRM y Solicitud Online desde analytics01 en python'\n",
    "transformationVersion = str(uuid.uuid1())\n",
    "transformationInitialDate = str(datetime.datetime.now())\n",
    "\n",
    "## Carpeta auxiliar para depositar los CSVs generados antes de subir\n",
    "\n",
    "if not os.path.exists(\"data\"):\n",
    "    os.makedirs(\"data\")\n"
   ]
  },
  {
   "cell_type": "code",
   "execution_count": 3,
   "metadata": {
    "collapsed": true
   },
   "outputs": [],
   "source": [
    "## Procedimiento de extracción de datos de CRM a un fichero CSV local\n",
    "\n",
    "def ExtractFromCRM(tableName, **optionalParameters): \n",
    "    \n",
    "    ## Motor SQLAlchemy para la base de datos SQL Server réplica del CRM online \n",
    "\n",
    "    crmEngine = sqlalchemy.create_engine(dbc.crm['dialect'] + '+' + dbc.crm['driver'] + '://' \\\n",
    "      + dbc.crm['username'] + ':' + dbc.crm['password'] + '@' \\\n",
    "      + dbc.crm['host'] + '/' + dbc.crm['database'] + dbc.crm['parameters'])\n",
    "    \n",
    "    # Ruta del fichero CSV, asumida en una subcarpeta \"data\" en la carpeta donde se ejecuta\n",
    "    # y extensión .csv.gz porque se generará comprimido en formato GZIP\n",
    "    \n",
    "    csvFile = optionalParameters.get('csvFile', 'data/CRM.' + tableName + '.csv.gz')\n",
    "    \n",
    "    # Parámetro opcional para indicar si requiere un procedimiento previo auxiliar \"Aux\"\n",
    "    \n",
    "    auxProcedure = optionalParameters.get('auxProcedure', None)\n",
    "    \n",
    "    # Parámetro opcional con el índice a aplicar al fichero CSV\n",
    "    \n",
    "    csvIndex = optionalParameters.get('csvIndex', None)\n",
    "    if (csvIndex == None):\n",
    "        csvIndex = tableName + 'Id'        \n",
    "        \n",
    "    # Recuperación por base de datos de tabla resultante de la transformación\n",
    "    \n",
    "    crmConnection = crmEngine.connect()\n",
    "    sqlSentence = ''\n",
    "    if (auxProcedure != None):\n",
    "        sqlSentence += 'EXEC IE_Vistas.BI.' + auxProcedure + '\\n'\n",
    "    sqlSentence += \"EXEC IE_Vistas.BI.\" + tableName\n",
    "    if (auxProcedure != None):\n",
    "        sqlSentence += '\\nDROP TABLE Aux' + tableName + '\\n'\n",
    "    table = pd.io.sql.read_sql(sqlSentence, crmConnection)\n",
    "    table.set_index(csvIndex, inplace = True)\n",
    "    table.to_csv(csvFile, sep = ';', compression = 'gzip', quotechar='|', quoting=csv.QUOTE_MINIMAL, \n",
    "                 encoding = 'utf8')\n",
    "    crmConnection.close()\n",
    "      \n",
    "        "
   ]
  },
  {
   "cell_type": "code",
   "execution_count": 4,
   "metadata": {
    "collapsed": true
   },
   "outputs": [],
   "source": [
    "## CRM.Person\n",
    "## (PersonId, Fullname, Gender, EmailAddress, Telephone, ContactType, CandidateStatus, InterestType, \n",
    "## InitialContactCategory, InitialContact, PrimaryNationality, HomeCountry, MktCountry, MktGeographicalArea, \n",
    "## MktProvince, MktCity, TotalYearsExperience, SubjectiveClassification, CommunicationLanguage, VisitedCountries, \n",
    "## IEFit, LastUpdate, CreationDate)\n",
    "\n",
    "## Personas activas en CRM y atributos de interés (nombre completo, género, e-mail, teléfono, tipo de contacto, \n",
    "## estado de contacto, tipo de interés, contacto inicial y su categoría, nacionalidad primaria, país de \n",
    "## procedencia, atributos de la dirección de Marketing, idioma de comunicación, clasificación subjetiva, \n",
    "## si encaja en IE, fecha de creación). Hay dos campos calculados:  \n",
    "\n",
    "## - TotalYearsOfExperience: Estima el total de años de experiencia de una persona a partir de sus experiencias\n",
    "##   profesionales. No era viable en los térmicos solicitados sumando los años de experiencia en los distintos\n",
    "##   cargos, al haber muchos casos con experiencias solapadas en el tiempo y cuya suma de años produce una \n",
    "##   cantidad enorme y sin el sentido deseado. En su lugar, se han calculado los segmentos sin solapamiento \n",
    "##   de los intervalos de tiempo entre las fechas de inicio y fin de las experiencias profesionales, y sobre \n",
    "##   ellos estimado el total de años de experiencia. Al ser un cálculo iterativo que va recorriendo cada \n",
    "##   experiencia de cada persona para determinar las intersecciones y acumular sólo segmentos no solapados, \n",
    "##   emplea unos 15 minutos en completarse para todos los contactos y experiencias activas.\n",
    "\n",
    "## - VisitedCountries: Estima el número de países visitados por el contacto, a partir de los países que aparecen\n",
    "##   en sus formaciones y experiencias profesionales, sumando la cantidad de países distintos que aparecen y\n",
    "##   restándole uno, asumiendo que uno de ellos debe ser su país de origen, al no servir para esto el país de \n",
    "##   origen del contacto por venir sin informar en muchos casos, ni el país de la dirección de Marketing al \n",
    "##   tener carácter comercial y no tener que coincidir con el de origen. \n",
    "\n",
    "ExtractFromCRM('Person')\n",
    "    "
   ]
  },
  {
   "cell_type": "code",
   "execution_count": 5,
   "metadata": {
    "collapsed": true
   },
   "outputs": [],
   "source": [
    "## CRM.Program \n",
    "## (ProgramId, Name, ShortName, Category, ProgramType, ProgramGroup, Format, Language, InAcademicCatalog, \n",
    "## InCommercialCatalog, Status, Commercialized)\n",
    "\n",
    "## Maestro de programas, incluyendo todos salvo los ficticios, su clasificación jerárquica Category / \n",
    "## ProgramType / ProgramGroup, formato, idioma, pertenencia al catálogo académico, pertenencia al catálogo \n",
    "## comercial, su estado activo o inactivo y si es o no comercializable. \n",
    "\n",
    "ExtractFromCRM('Program')"
   ]
  },
  {
   "cell_type": "code",
   "execution_count": 6,
   "metadata": {
    "collapsed": true
   },
   "outputs": [],
   "source": [
    "## CRM.ProgramSchools \n",
    "## (ProgramId, School)\n",
    "\n",
    "## Los programas no se vinculan a una única escuela del IE, sino que hay una asociación múltiple que \n",
    "## permite relacionar un programa con varias escuelas. Por este motivo no se incluye la escuela en el \n",
    "## maestro de programas sino en esta tabla aparte con los programas no ficticios y un registro por cada \n",
    "## escuela asociada. \n",
    "\n",
    "ExtractFromCRM('ProgramSchools')"
   ]
  },
  {
   "cell_type": "code",
   "execution_count": 7,
   "metadata": {
    "collapsed": true
   },
   "outputs": [],
   "source": [
    "## CRM.Offering \n",
    "## (OfferingId, ProgramId, Intake, Season, AcademicYear, StartingDate, EndingDate, SalesDeadLine, Status, \n",
    "## Commercialized)\n",
    "\n",
    "## Ofertas formativas de los distintos programas. Cada una va definida por la convocatoria (Intake), su programa\n",
    "## asociado, el año académico (AcademicYear) y estación (Season) calculados a partir del nombre oficial, fecha \n",
    "## de inicio, fecha de fin y fecha de cierre de ventas (SalesDeadLine), calculada a partir de la fecha de inicio\n",
    "## y tipo del programa ofertado, el estado (activo o inactivo) y si es o no comercializable. \n",
    "\n",
    "## Aunque muchas aplicaciones, procesos e informes requieren que el nombre oficial de convocatoria (Intake) \n",
    "## esté bien formado según el formato MMM-AAAA (por ejemplo, OCT-2016), o bien que sean activas y/o \n",
    "## comercializables al igual que sus programas, aquí se incluyen todas, excluyéndose sólo si su programa es\n",
    "## ficticio. \n",
    "\n",
    "ExtractFromCRM('Offering')"
   ]
  },
  {
   "cell_type": "code",
   "execution_count": 8,
   "metadata": {
    "collapsed": true
   },
   "outputs": [],
   "source": [
    "## CRM.EventRegistration \n",
    "##(EventRegId, PersonId, EventName, EventDate, EventRegDate, EventType, Attendance, GeographicalArea, \n",
    "## Country, Province, City, Location)\n",
    "\n",
    "## Información de registros a eventos: la persona inscrita, los datos del evento (nombre, fecha, tipo, \n",
    "## atributos de ubicación) y del registro: fecha de registro (EventRegDate) y estado de la inscripción \n",
    "## (Attendance). No ha sido posible incluir la fecha de asistencia al evento pues, aunque existe internamente \n",
    "## un atributo para ello, no se está rellenando desde el formulario de CRM.\n",
    "\n",
    "## Sólo se incluyen registros activos a eventos activos, pero no se limita nada más. Para restringir a \n",
    "## registros a eventos con asistencia confirmada, se aplica el filtro Attendance = ‘Confirmed attendance’. \n",
    "\n",
    "ExtractFromCRM('EventRegistration', csvIndex = 'EventRegId')"
   ]
  },
  {
   "cell_type": "code",
   "execution_count": 9,
   "metadata": {
    "collapsed": true
   },
   "outputs": [],
   "source": [
    "## CRM.Opportunity \n",
    "## (OpportunityId, PersonId, ProgramId, OfferingId, EventRegId, OpportunityStatus, StartingDate,\n",
    "## EndingDate, OnlineApplicationDate, OnlineApplicationProgress, OppInitialContactCategory, OppInitialContact, \n",
    "## CreationDate, LastUpdate)\n",
    "\n",
    "## Oportunidades en CRM recogiendo el interés de una persona en un programa entre una determinada fecha de\n",
    "## inicio y otra de fin, en un estado de oportunidad concreto. En ocasiones, se relaciona con una oferta \n",
    "## formativa concreta, con un registro a evento concreto (calculado relacionando varias entidades de CRM). \n",
    "## También informa a veces el canal de entrada (categoría y contacto inicial), la fecha de inicio de la \n",
    "## solicitud online y su progreso. Sólo se ha restringido en la carga que la persona sea activa, dando \n",
    "## cabida a los distintos casos (sin programa, varias para un mismo contacto y programa, etc.) a fin de \n",
    "## reflejar la casuística real que hay.  \n",
    "\n",
    "## Disponer del canal de entrada en la oportunidad y en la persona hace posible un análisis separado. \n",
    "## Por ejemplo, el valor de contacto inicial “Royall” se podría filtrar en la oportunidad en \n",
    "## OppInitialContactCategory o en la persona en InitialContatCategory.\n",
    "\n",
    "ExtractFromCRM('Opportunity', auxProcedure = 'ObtenerAuxOpportunity')"
   ]
  },
  {
   "cell_type": "code",
   "execution_count": 10,
   "metadata": {
    "collapsed": true
   },
   "outputs": [],
   "source": [
    "## CRM.Enrollment \n",
    "## (EnrollmentId, OfferingId, PersonId, EnrollmentStatus, FeePaid, Recommenders, OpportunityId, \n",
    "## LastStatusChange, LastUpdate)\n",
    "\n",
    "## Inscripciones en las ofertas formativas. Se obtienen de admisiones activas para personas activas, quedando\n",
    "## relacionadas generalmente con una persona, una oferta formativa y una oportunidad, incluyendo el estado de\n",
    "## admisión, último cambio de estado, información de tasa pagada, y los recomendantes separados por comas \n",
    "## calculados en un solo atributo (Recommenders), en caso de tenerlos.\n",
    "\n",
    "ExtractFromCRM('Enrollment', auxProcedure = 'ObtenerAuxEnrollment')"
   ]
  },
  {
   "cell_type": "code",
   "execution_count": 11,
   "metadata": {
    "collapsed": true
   },
   "outputs": [],
   "source": [
    "## CRM.FinancialAid \n",
    "## (FinancialAidId, EnrollmentId, FinancialAidStatus, AmountGranted, Revision, DirectAward, ClauseAccepted, \n",
    "## Fellowship1, Fellowship1Type, Fellowship1Status, Fellowship1Amount, Fellowship2, Fellowship2Type, \n",
    "## Fellowship2Status, Fellowship2Amount, Fellowship3, Fellowship3Type, Fellowship3Status, Fellowship3Amount, \n",
    "## LastStatusChange)\n",
    "\n",
    "## Ayudas financieras activas asociadas a inscripciones en ofertas formativas para contactos activos junto \n",
    "## con sus tres posibles becas activas y tipología o nombre de descuento de éstas, así como el estado de la \n",
    "## ayuda y estado de cada una de las becas, y sus importes. Hay un campo adicional AmountGranted donde se ha\n",
    "## calculado la suma de los importes (del IE) de las becas aprobadas para las ayudas concedidas.\n",
    "\n",
    "## Aunque en teoría sólo puede haber tres becas activas para una ayuda, hay casos en CRM con más y, para dar\n",
    "## cabida a sólo tres como nos indicaron considerar, ha habido que escoger para la carga las tres principales, \n",
    "## eligiendo primero las aprobadas y del resto las más actuales. Las becas que se quedan fuera a partir de la\n",
    "## cuarta deben ser errores y prescindibles, se incluyen en el cálculo de AmountGranted, pero parecen no afectar\n",
    "## porque no debe haber ninguna aprobada en tales condiciones.\n",
    "\n",
    "ExtractFromCRM('FinancialAid', auxProcedure = 'ObtenerAuxFinancialAid')"
   ]
  },
  {
   "cell_type": "code",
   "execution_count": 20,
   "metadata": {
    "collapsed": true
   },
   "outputs": [],
   "source": [
    "## CRM.AdmissionTest \n",
    "## (AdmissionTestId, PersonId, ProgramId, TestName, TestGradeType, Score, Multiscore, LiteralGrade, MinValue, \n",
    "## MaxValue, Channel, Date, CreationDate)\n",
    "\n",
    "## Pruebas de admisión activas para personas activas. Recogen la persona evaluada, en ocasiones un programa \n",
    "## concreto al que aplica la prueba, nombre del examen, tipo de calificación esperada y calificación registrada\n",
    "## en tres posibles formatos dependiendo del formato del resultado y tipo de prueba (Score, Multiscore, \n",
    "## LiteralGrade), valor mínimo y máximo posible, canal y fecha. \n",
    "\n",
    "ExtractFromCRM('AdmissionTest')"
   ]
  },
  {
   "cell_type": "code",
   "execution_count": 4,
   "metadata": {
    "collapsed": true
   },
   "outputs": [],
   "source": [
    "## CRM.AcademicTraining \n",
    "## (AcademicTrainingId, PersonId, Title, EducationLevel, AcademicDisplicine, College, Institution, \n",
    "## AverageGrade, Country, City, StartingDate, EndingDate)\n",
    "\n",
    "## Formaciones académicas activas para personas activas, incluyendo persona, título, nivel educativo, \n",
    "## rama académica, colegio, institución, nota media (texto libre), país, ciudad, fecha de inicio y fin.\n",
    "\n",
    "ExtractFromCRM('AcademicTraining')"
   ]
  },
  {
   "cell_type": "code",
   "execution_count": 14,
   "metadata": {
    "collapsed": true
   },
   "outputs": [],
   "source": [
    "## CRM.LanguageCompetence \n",
    "## (Language, PersonId, LevelNumber, Level, LanguageCompetenceId)\n",
    "\n",
    "## Competencias en idiomas activas para personas activas, incluyendo persona, idioma y nivel numérico \n",
    "## y descrito. En caso de aparecer varias veces un mismo idioma para la misma persona, se carga sólo el \n",
    "## de mayor nivel numérico. \n",
    "\n",
    "ExtractFromCRM('LanguageCompetence')"
   ]
  },
  {
   "cell_type": "code",
   "execution_count": 15,
   "metadata": {
    "collapsed": true
   },
   "outputs": [],
   "source": [
    "## CRM.NationalityRecord (Nationality, Personid, DocumentType, Document, NationalityRecordId)\n",
    "\n",
    "## Nacionalidades activas para personas activas, incluyendo persona, nacionalidad, tipo de documento y \n",
    "## documento identificativo asociado. \n",
    "\n",
    "ExtractFromCRM('NationalityRecord')"
   ]
  },
  {
   "cell_type": "code",
   "execution_count": 16,
   "metadata": {
    "collapsed": true
   },
   "outputs": [],
   "source": [
    "## CRM.ProfessionalExperience\n",
    "\n",
    "ExtractFromCRM('ProfessionalExperience', csvIndex = 'ProfExperienceId')"
   ]
  },
  {
   "cell_type": "code",
   "execution_count": 17,
   "metadata": {
    "collapsed": true
   },
   "outputs": [],
   "source": [
    "## CRM.OpportunityTask\n",
    "## (TaskId, Status, CreationDate, ActualEnd)\n",
    "\n",
    "ExtractFromCRM('OpportunityTask', csvIndex='TaskId')"
   ]
  },
  {
   "cell_type": "code",
   "execution_count": 18,
   "metadata": {
    "collapsed": true
   },
   "outputs": [],
   "source": [
    "## CRM.OnlineLeadFollowup\n",
    "## (FollowupId, OpportunityId, Enrollmentid, TaskType, Subject, CallFeedback, Reasons, PlaceTheCall, EmailAfterCall, \n",
    "## OneToOne, Status, CreationDate)\n",
    "\n",
    "ExtractFromCRM('OnlineLeadFollowup', csvIndex='FollowupId')"
   ]
  },
  {
   "cell_type": "code",
   "execution_count": 19,
   "metadata": {
    "collapsed": true
   },
   "outputs": [],
   "source": [
    "## CRM.HistoricContact\n",
    "## (HistoricContactId, Personid, InitialDate, FinalDate, ContactType, CandidateStatus, GeographicalArea, \n",
    "## Country, Province)\n",
    "\n",
    "ExtractFromCRM('HistoricContact')"
   ]
  },
  {
   "cell_type": "code",
   "execution_count": 21,
   "metadata": {
    "collapsed": true
   },
   "outputs": [],
   "source": [
    "## Celda auxiliar de comprobación para cargar CSV y visualizar como DataFrame de pandas\n",
    "\n",
    "## pd.read_csv('data/CRM.Person.csv.gz', sep = ';', compression = 'gzip', quotechar='|', quoting=csv.QUOTE_MINIMAL)"
   ]
  },
  {
   "cell_type": "code",
   "execution_count": 22,
   "metadata": {
    "collapsed": true
   },
   "outputs": [],
   "source": [
    "## Tablas provenientes de la Solicitud Online\n",
    "\n",
    "## Se relacionan entre ellas por el identificador de persona de la solicitud online PersonIdOA, y pueden \n",
    "## relacionarse con el resto de CRM a través del atributo EmailAddress como se había acordado para que el \n",
    "## e-mail sirviese como nexo, y además, en los casos en que la solicitud online tenga informados en \n",
    "## OA.OnlineApplication los campos OpportunityId o EnrollmentId, se puede hacer un cruce directo con las \n",
    "## tablas CRM.Opportunity o CRM.Enrollment, respectivamente.\n",
    "\n",
    "## Estas tablas son análogas a las de CRM, salvo que aquí no se excluyen registros inactivos, hay atributos \n",
    "## propios como TransferredToCRM, y hay dos tablas adicionales OA.OnlineApplication y OA.AppliedInstitution \n",
    "## con los datos de la solicitud online y escuelas aplicadas. También los recomendantes son diferentes, ya \n",
    "## que aquí provienen de cartas de referencia y se vinculan a la persona, anotándose en ellos su cargo y \n",
    "## ubicación, pudiendo ser de cualquier empresa, organismo o país, sin que estén catalogados, a diferencia \n",
    "## de en CRM que van vinculados a la admisión y se catalogan como recomendantes en CRM, generalmente personal\n",
    "## del IE. Como a veces se queda el recomendante en blanco, se han incluido dos campos a nivel de persona \n",
    "## RecommendedOA y RecommendersOA para recoger en el primero si tiene recomendación o no, y en el segundo\n",
    "## la lista de recomendantes rellenados junto con su posición y localización. \n"
   ]
  },
  {
   "cell_type": "code",
   "execution_count": 5,
   "metadata": {
    "collapsed": true
   },
   "outputs": [],
   "source": [
    "## Procedimiento de extracción de datos de la Solicitud Online a un fichero CSV local\n",
    "\n",
    "def ExtractFromOnlineApplication(tableName, **optionalParameters): \n",
    "    \n",
    "    ## Motor SQLAlchemy para la base de datos SQL Server de la Solicitud Online\n",
    "    \n",
    "    oaEngine = sqlalchemy.create_engine(\n",
    "         dbc.oa['dialect'] + '+' + dbc.oa['driver'] + '://' \\\n",
    "         + dbc.oa['username'] + ':' + dbc.oa['password'] + '@' \\\n",
    "         + dbc.oa['host'] + '/' + dbc.oa['database'] + dbc.oa['parameters'])\n",
    "    \n",
    "    # Ruta del fichero CSV, asumida en una subcarpeta \"data\" en la carpeta donde se ejecuta\n",
    "    # y extensión .csv.gz porque se generará comprimido en formato GZIP\n",
    "    \n",
    "    csvFile = optionalParameters.get('csvFile', 'data/OA.' + tableName + '.csv.gz')\n",
    "    \n",
    "    # Parámetro opcional para indicar si requiere un procedimiento previo auxiliar \"Aux\"\n",
    "    \n",
    "    auxProcedure = optionalParameters.get('auxProcedure', None)\n",
    "    \n",
    "    # Parámetro opcional con el índice a aplicar al fichero CSV\n",
    "    \n",
    "    csvIndex = optionalParameters.get('csvIndex', None)\n",
    "    if (csvIndex == None):\n",
    "        csvIndex = tableName + 'Num'        \n",
    "        \n",
    "    # Recuperación por base de datos de tabla resultante de la transformación\n",
    "    \n",
    "    oaConnection = oaEngine.connect()\n",
    "    sqlSentence = ''\n",
    "    if (auxProcedure != None):\n",
    "        sqlSentence += 'EXEC BI.' + auxProcedure + '\\n'\n",
    "    sqlSentence += \"EXEC BI.\" + tableName\n",
    "    if (auxProcedure != None):\n",
    "        sqlSentence += '\\nDROP TABLE Aux' + tableName + '\\n'\n",
    "    table = pd.io.sql.read_sql(sqlSentence, oaConnection)\n",
    "    table.set_index(csvIndex, inplace = True)\n",
    "    table.to_csv(csvFile, sep = ';', compression = 'gzip', quotechar='|', quoting=csv.QUOTE_MINIMAL, \n",
    "                 encoding = 'utf8')\n",
    "    oaConnection.close()\n",
    "      \n",
    "        "
   ]
  },
  {
   "cell_type": "code",
   "execution_count": 6,
   "metadata": {
    "collapsed": true
   },
   "outputs": [],
   "source": [
    "## OA.AcademicTraining \n",
    "## (AcademicTrainingNum, AcademicTrainingForWhom, PersonIdOA, Institution, School, City, Province, Country, \n",
    "## InstitutionWeb, SchoolWeb, AcademicArea, AcademicSubarea, DegreeType, Title, SpecificLevelOfEducation, \n",
    "## SpecificEducationSystem, CurrentTraining, AverageGrade, MaxGrade, Language, Comment, TransferredToCRM, \n",
    "## StartingDate, EndingDate, ExpectedEndingDate)\n",
    "\n",
    "ExtractFromOnlineApplication('AcademicTraining')\n",
    "\n"
   ]
  },
  {
   "cell_type": "code",
   "execution_count": 25,
   "metadata": {
    "collapsed": true
   },
   "outputs": [],
   "source": [
    "## OA.AdmissionTest \n",
    "## (TestNumber, PersonIdOA, TestName, IsAdmissionExam, IsAdmissionExamIEU, Score, Date, TransferredToCRM)\n",
    "\n",
    "ExtractFromOnlineApplication('AdmissionTest', csvIndex='TestNumber')"
   ]
  },
  {
   "cell_type": "code",
   "execution_count": 26,
   "metadata": {
    "collapsed": true
   },
   "outputs": [],
   "source": [
    "## OA.AppliedInstitution \n",
    "##(AppliedInstitutionNum, PersonIdOA, GeographicalArea, Institution)\n",
    "\n",
    "ExtractFromOnlineApplication('AppliedInstitution')"
   ]
  },
  {
   "cell_type": "code",
   "execution_count": 27,
   "metadata": {
    "collapsed": true
   },
   "outputs": [],
   "source": [
    "## OA.OnlineApplication \n",
    "## (OnlineApplicationNum, PersonIdOA, OpportunityId, ProgramId, OfferingId, EnrollmentId, ClassroomShift, \n",
    "## StartingDate, EndingDate, Progress, TransferredToCRM, TransferToCRMDate, Comment, TrackingAdwordsFin, \n",
    "## InterestOnDegrees, InterestType, WhyComeToIE, WhyChooseThisProgram, CompanyPayment, CompanyPaymentContactPerson, \n",
    "## CompanyPaymentContactPosition, CompanyPaymentOrganizationType, CompanyPaymentSector, CompanyPaymentWeb, \n",
    "## CompanyPaymentEmployees, CompanyPaymentAnnualSales, CompanyPaymentCIF, CompanyPaymentTelephone, \n",
    "## CompanyPaymentEmailAddress, PaymentPercent, PaymentValue, OnlinePayment, Price, LastUpdate)\n",
    "\n",
    "ExtractFromOnlineApplication('OnlineApplication')"
   ]
  },
  {
   "cell_type": "code",
   "execution_count": 28,
   "metadata": {
    "collapsed": true
   },
   "outputs": [],
   "source": [
    "## OA.Person (PersonIdOA, Fullname, EmailAddress, Telephone, InterestTypeOA, HomeCountry, Alumni, MktCountry, \n",
    "## MktProvince, YearsOfExperience, RegistrationDate, SessionDate, LastUpdate, OnlinePayment, Paid, PaymentDate, \n",
    "## PaymentReference, AcceptedStatement, AcceptedStatementCorrectInfo, AlumniLOPD, LOPD, TransferredToCRM, \n",
    "## TransferInProgressToCRM, InterestOnDegrees, TransferStudent, ProgramOfInterest1, ProgramOfInterest2, \n",
    "## VisitedCountries, DailyOtherLanguageActivity, RecommendedOA, RecommendersOA)\n",
    "\n",
    "ExtractFromOnlineApplication('Person', csvIndex='PersonIdOA')"
   ]
  },
  {
   "cell_type": "code",
   "execution_count": 29,
   "metadata": {
    "collapsed": true
   },
   "outputs": [],
   "source": [
    "## OA.ProfessionalExperience \n",
    "## (ProfessionalExperienceNum, PersonIdOA, Organization, OrganizationType, FamilyBusiness, OrganizationWeb, \n",
    "## City, Country, Sector, Employees, Area, Department, Title, ResponsibilityLevel, NumberOfDependants, \n",
    "## FixedAnnualSalary, VariableAnnualSalary, StartingDate, EndingDate, CurrentPosition, TravelTimeForWork,\n",
    "## WorkingTimeForPeople, Functions, NumEmployees, SelfEmployed, TransferredToCRM, LastUpdate)\n",
    "\n",
    "ExtractFromOnlineApplication('ProfessionalExperience')"
   ]
  },
  {
   "cell_type": "code",
   "execution_count": 30,
   "metadata": {
    "collapsed": true
   },
   "outputs": [],
   "source": [
    "## OA.LanguageCompetence \n",
    "## (LanguageCompetenceIdOA, PersonIdOA, Language, Level, TransferredToCRM, Lastupdate) \n",
    "\n",
    "ExtractFromOnlineApplication('LanguageCompetence', csvIndex='LanguageCompetenceIdOA')"
   ]
  },
  {
   "cell_type": "code",
   "execution_count": 31,
   "metadata": {
    "collapsed": true
   },
   "outputs": [],
   "source": [
    "## OA.NationalityRecord \n",
    "## (NationalityRecordIdOA, PersonIdOA, Nationality, DocumentType, Document, TransferredToCRM, LastUpdate)\n",
    "\n",
    "ExtractFromOnlineApplication('NationalityRecord', csvIndex='NationalityRecordIdOA')"
   ]
  },
  {
   "cell_type": "code",
   "execution_count": 32,
   "metadata": {
    "collapsed": true,
    "scrolled": true
   },
   "outputs": [],
   "source": [
    "## Sincronización de carpeta local \"data\" con carpeta \"tc-crm-solonline\" del bucket S3 iedatalakeprocess\n",
    "## Hace uso de AWSCLI (previamente instalado mediante la instrucción: sudo apt install awscli)\n",
    "\n",
    "transformationFinalDate = str(datetime.datetime.now())\n",
    "os.system('aws s3 sync data s3://iedatalakeprocess/tc-crm-solonline --metadata transformationprocess=\"' \n",
    "          + transformationProcess  + '\",transformationversion=\"' + transformationVersion \n",
    "          + '\",transformationinitialdate=\"'  + transformationInitialDate + '\",transformationfinaldate=\"' \n",
    "          + transformationFinalDate + '\",code=\"Transform-CRM-SolOnline.ipynb\"');\n"
   ]
  },
  {
   "cell_type": "code",
   "execution_count": 33,
   "metadata": {
    "collapsed": true
   },
   "outputs": [],
   "source": [
    "## Borrado de la carpeta auxiliar \"data\" y todos los ficheros generados en ella (cuando proceso quede estable)\n",
    "# shutil.rmtree('data')"
   ]
  },
  {
   "cell_type": "code",
   "execution_count": null,
   "metadata": {
    "collapsed": true
   },
   "outputs": [],
   "source": []
  }
 ],
 "metadata": {
  "kernelspec": {
   "display_name": "Python 3",
   "language": "python",
   "name": "python3"
  },
  "language_info": {
   "codemirror_mode": {
    "name": "ipython",
    "version": 3
   },
   "file_extension": ".py",
   "mimetype": "text/x-python",
   "name": "python",
   "nbconvert_exporter": "python",
   "pygments_lexer": "ipython3",
   "version": "3.6.1"
  }
 },
 "nbformat": 4,
 "nbformat_minor": 2
}
