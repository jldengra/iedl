{
 "cells": [
  {
   "cell_type": "markdown",
   "metadata": {},
   "source": [
    "<table width='100%'>\n",
    "<tr>\n",
    "<td>\n",
    "<center><h1 style=\"font-size:2em;color:#505050\">Getting Data in Shape</h1>\n",
    "<h1 style=\"font-size:1em;color:#505050\">Data Preprocesing - Data Munging - Data Wrangling</h1>\n",
    "</center>\n",
    "</td>\n",
    "\n",
    "<td>\n",
    "<img align=\"middle\" style=\"width:360px;\" src = 'http://www.interlinkdata.co.uk/Images/CRMhead.png'>\n",
    "</td>\n",
    "</tr>\n",
    "</table>\n",
    "\n"
   ]
  },
  {
   "cell_type": "code",
   "execution_count": 2,
   "metadata": {
    "collapsed": true
   },
   "outputs": [],
   "source": [
    "## Importación al bucket iedatalakeprocess de datos de CRM (tratados, unificados y normalizados)\n",
    "## ---------------------------------------------------------------------------------------------\n",
    "## Modelado de Programas\n",
    "\n",
    "import pandas as pd\n",
    "import csv\n",
    "import s3fs\n",
    "import numpy as np\n",
    "import os\n",
    "import datetime\n",
    "import uuid"
   ]
  },
  {
   "cell_type": "code",
   "execution_count": 3,
   "metadata": {
    "collapsed": true
   },
   "outputs": [],
   "source": [
    "## Proceso, versíón y fecha de ingesta para identificar la ejecución\n",
    "\n",
    "transformationProcess = 'Transformacion de datos CRM de landing a process'\n",
    "transformationVersion = str(uuid.uuid1())\n",
    "transformationInitialDate = str(datetime.datetime.now())"
   ]
  },
  {
   "cell_type": "code",
   "execution_count": 4,
   "metadata": {
    "collapsed": true
   },
   "outputs": [],
   "source": [
    "# Atributos de interés de la entidad IE_Program\n",
    "\n",
    "ie_program_attributes = ['ie_programid', 'ie_ieprogramid', 'ie_name', 'ie_longname', 'ie_shortname', \n",
    "                         'ie_programtypeid', 'ie_agrupationid', 'ie_studytype_displayname', \n",
    "                         'ie_format_displayname', 'ie_belongto_displayname', \n",
    "                         'ie_campusplace_displayname', 'ie_location_displayname', 'ie_languageidname',\n",
    "                         'ie_secretaryidname', 'ie_dirigidoa', 'createdon', 'ie_directoridname', \n",
    "                         'ie_programtype', 'statecode_displayname', 'ie_commercialized', \n",
    "                         'ie_academiccatalog', 'ie_comercialcatalog', 'ie_untrueprogram']\n",
    "\n",
    "# Lectura en un DataFrame del CSV donde se ha volcado la entidad IE_Program en bruto en la capa de \n",
    "# landing\n",
    "\n",
    "ie_program = pd.read_csv('s3://iedatalakelanding/crm/IE_Program.csv.gz', sep = ';', \n",
    "                         compression = 'gzip', quotechar='|', quoting=csv.QUOTE_MINIMAL, \n",
    "                         usecols = ie_program_attributes)\n",
    "\n",
    "# Renombramos 'ie_name' con la etiqueta del programa en CRM para evitar confusión con nombre oficial\n",
    "\n",
    "ie_program = ie_program.rename(columns = {'ie_name':'ie_program_crm_label'})\n"
   ]
  },
  {
   "cell_type": "code",
   "execution_count": 5,
   "metadata": {
    "collapsed": true
   },
   "outputs": [],
   "source": [
    "# Atribución del literal 'N/A' para valores no disponibles en varias columnas\n",
    "\n",
    "columnsLiteralNA = ['ie_studytype_displayname', 'ie_format_displayname', 'ie_belongto_displayname', \n",
    "                'ie_campusplace_displayname', 'ie_location_displayname', 'ie_languageidname',\n",
    "                'ie_secretaryidname', 'ie_dirigidoa', 'ie_directoridname']\n",
    "\n",
    "ie_program[columnsLiteralNA] = ie_program[columnsLiteralNA].fillna('N/A') \n"
   ]
  },
  {
   "cell_type": "code",
   "execution_count": 6,
   "metadata": {
    "collapsed": true
   },
   "outputs": [],
   "source": [
    "# Omitimos espacios a los lados en campos de texto donde pudieran estar de más para normalizarlos\n",
    "\n",
    "columnsForTrim = ['ie_dirigidoa', 'ie_location_displayname', 'ie_program_crm_label', 'ie_directoridname', \n",
    "                 'ie_secretaryidname']\n",
    "\n",
    "ie_program[columnsForTrim] = ie_program[columnsForTrim].applymap(str.strip)"
   ]
  },
  {
   "cell_type": "code",
   "execution_count": 7,
   "metadata": {
    "collapsed": true
   },
   "outputs": [],
   "source": [
    "# Atribución de nombre corto al nombre largo de programas en que no viene informado\n",
    "\n",
    "ie_program['ie_longname'] = ie_program['ie_longname'].fillna(ie_program['ie_shortname'])\n",
    "\n",
    "# Si persiste algún nulo en el nombre largo es porque se da la anomalía de que no tiene ni nombre\n",
    "# corto ni nombre largo, y tomamos como nombre largo la etiqueta del programa en CRM, y lo mismo\n",
    "# para el nombre corto\n",
    "\n",
    "ie_program['ie_longname']  = ie_program['ie_longname'].fillna(ie_program['ie_program_crm_label'])\n",
    "ie_program['ie_shortname'] = ie_program['ie_shortname'].fillna(ie_program['ie_program_crm_label'])\n",
    "\n",
    "# Normalizamos los valores de integración con el sistema académico dejando a NaN los no válidos\n",
    "# por ser cero o mayores que un millón. El tipo de dato es float para admitir NaN\n",
    "\n",
    "filterInvalidCorporateId = (ie_program['ie_ieprogramid'] == 0) \\\n",
    "                           | (ie_program['ie_ieprogramid'] > 1000000)\n",
    "ie_program.loc[filterInvalidCorporateId, 'ie_ieprogramid'] = np.nan"
   ]
  },
  {
   "cell_type": "code",
   "execution_count": 8,
   "metadata": {
    "collapsed": true
   },
   "outputs": [],
   "source": [
    "# Completamos la información básica del programa con atributos de su tipo de programa\n",
    "\n",
    "ie_programtype_attributes = ['ie_programtypeid', 'ie_ieprogramtypeid', 'ie_name', 'ie_name_es', \n",
    "                             'ie_programcategory_displayname' ]\n",
    "\n",
    "ie_programtype = pd.read_csv('s3://iedatalakelanding/crm/IE_ProgramType.csv.gz', sep = ';', \n",
    "                             compression = 'gzip', quotechar='|', quoting=csv.QUOTE_MINIMAL, \n",
    "                             usecols = ie_programtype_attributes)\n",
    "\n",
    "# Atribución del literal 'N/A' para categorías no disponibles en el tipo de programa\n",
    "\n",
    "ie_programtype['ie_programcategory_displayname'].fillna('N/A', inplace = True)\n",
    "\n",
    "# Por si acaso creasen algún tipo sin nombre, imputamos el del idioma contrario si hubiera, \n",
    "# y si no tiene valor, el literal 'N/A'\n",
    "\n",
    "ie_programtype['ie_name'] = ie_programtype['ie_name'].fillna(ie_programtype['ie_name_es'])\n",
    "ie_programtype['ie_name'] = ie_programtype['ie_name'].fillna('N/A')\n",
    "\n",
    "# Eliminamos el nombre en español, que sólo hemos usado para completar si viene vacío en inglés\n",
    "\n",
    "ie_programtype = ie_programtype.drop(['ie_name_es'], axis = 1)\n",
    "\n",
    "ie_program = pd.merge(ie_program, ie_programtype, how = 'left', \\\n",
    "                      on = ['ie_programtypeid', 'ie_programtypeid'])\n",
    "\n",
    "del ie_programtype\n",
    "\n",
    "# Renombramos 'ie_name' con el nombre del tipo de programa para evitar confusiones\n",
    "\n",
    "ie_program = ie_program.rename(columns = {'ie_name':'ie_programtype_name'})\n",
    "\n"
   ]
  },
  {
   "cell_type": "code",
   "execution_count": 9,
   "metadata": {
    "collapsed": true
   },
   "outputs": [],
   "source": [
    "# Añadimos las escuelas asociadas a cada programa. \n",
    "# Esto introducirá multiplicidad al poder haber varias.\n",
    "\n",
    "ie_program_schools = pd.read_csv('s3://iedatalakelanding/crm/IE_IE_IESchool_IE_Program.csv.gz', \n",
    "                                 sep = ';', compression = 'gzip', quotechar='|', \n",
    "                                 quoting=csv.QUOTE_MINIMAL)\n",
    "\n",
    "ie_ieschool = pd.read_csv('s3://iedatalakelanding/crm/IE_IESchool.csv.gz', \n",
    "                        sep = ';', compression = 'gzip', quotechar='|', quoting=csv.QUOTE_MINIMAL)\n",
    "\n",
    "ie_prog_schools = pd.merge(ie_program_schools, ie_ieschool, \n",
    "                           on = ['ie_ieschoolid', 'ie_ieschoolid']) [['ie_programid', 'ie_name']]\n",
    "\n",
    "ie_program = pd.merge(ie_program, ie_prog_schools, how = 'left', on = ['ie_programid', 'ie_programid'])\n",
    "\n",
    "del ie_program_schools\n",
    "\n",
    "ie_program = ie_program.rename(columns = {'ie_name':'ie_ieschool'})\n",
    "\n",
    "# Por si hubieran asignado varias veces una escuela a un programa, eliminamos posibles duplicados\n",
    "\n",
    "ie_program = ie_program.drop_duplicates()"
   ]
  },
  {
   "cell_type": "code",
   "execution_count": 10,
   "metadata": {
    "collapsed": true
   },
   "outputs": [],
   "source": [
    "# Añadimos la agrupación a la que pertenece el programa, con su identificador al haber homonimia y\n",
    "# solapamiento\n",
    "\n",
    "ie_agrupation = pd.read_csv('s3://iedatalakelanding/crm/IE_Agrupation.csv.gz', sep = ';', \n",
    "                compression = 'gzip', quotechar='|', quoting=csv.QUOTE_MINIMAL)\n",
    "\n",
    "ie_prog_agrupation = pd.merge(ie_program, ie_agrupation, how = 'left', \\\n",
    "                     on = ['ie_agrupationid', 'ie_agrupationid']) [['ie_programid', 'ie_name']] \\\n",
    "                     .drop_duplicates()\n",
    "    \n",
    "ie_program = pd.merge(ie_program, ie_prog_agrupation, how = 'left', \\\n",
    "                      on = ['ie_programid', 'ie_programid']).drop_duplicates()\n",
    "\n",
    "del ie_agrupation\n",
    "\n",
    "ie_program = ie_program.rename(columns = {'ie_name':'ie_agrupation'})\n",
    "\n",
    "# Imputamos la agrupación 'N/A' con identificador '4F4C54C3-4A70-4588-8F11-C5E919A9CE75' a los nulos\n",
    "\n",
    "ie_program['ie_agrupation'] = ie_program['ie_agrupation'].fillna('N/A')\n",
    "\n",
    "ie_program['ie_agrupationid'] = \\\n",
    "                        ie_program['ie_agrupationid'].fillna('4F4C54C3-4A70-4588-8F11-C5E919A9CE75')"
   ]
  },
  {
   "cell_type": "code",
   "execution_count": 11,
   "metadata": {
    "collapsed": true
   },
   "outputs": [],
   "source": [
    "# Traducción de atributos de listas de valor que no se replican traducidos en un campo display_name: \n",
    "\n",
    "stringmap = pd.read_csv('s3://iedatalakelanding/crm/StringMap.csv.gz', sep = ';', \n",
    "                        compression = 'gzip', quotechar='|', quoting=csv.QUOTE_MINIMAL) \\\n",
    "                        [['attributename', 'attributevalue', 'value', 'objecttypecode', 'langid']]\n",
    "\n",
    "# ie_academiccatalog\n",
    "\n",
    "tr_ie_academiccatalog = stringmap[ (stringmap['objecttypecode'] == 'ie_program') & \\\n",
    "                       (stringmap['langid'] == 1033) & \\\n",
    "                       (stringmap['attributename'] == 'ie_academiccatalog') ] \n",
    "ie_prog_acadcat = pd.merge(ie_program, tr_ie_academiccatalog, left_on = 'ie_academiccatalog', \n",
    "                              right_on = 'attributevalue', how  ='left') [['ie_programid', 'value']] \\\n",
    "                           .drop_duplicates()\n",
    "ie_prog_acadcat = ie_prog_acadcat.rename(columns = {'value':'ie_academiccatalog_displayname'})\n",
    "ie_program = pd.merge(ie_program, ie_prog_acadcat, how = 'left', \\\n",
    "                      on = ['ie_programid', 'ie_programid']).drop_duplicates()\n",
    "\n",
    "# ie_comercialcatalog\n",
    "\n",
    "tr_ie_comercialcatalog = stringmap[ (stringmap['objecttypecode'] == 'ie_program') & \\\n",
    "                       (stringmap['langid'] == 1033) & \\\n",
    "                       (stringmap['attributename'] == 'ie_comercialcatalog') ] \n",
    "ie_prog_comcat = pd.merge(ie_program, tr_ie_comercialcatalog, left_on = 'ie_comercialcatalog', \n",
    "                          right_on = 'attributevalue', how = 'left') [['ie_programid', 'value']] \\\n",
    "                         .drop_duplicates()\n",
    "ie_prog_comcat = ie_prog_comcat.rename(columns = {'value':'ie_comercialcatalog_displayname'})\n",
    "ie_program = pd.merge(ie_program, ie_prog_comcat, how = 'left', \\\n",
    "                      on = ['ie_programid', 'ie_programid']).drop_duplicates()\n",
    "\n",
    "\n",
    "# ie_programtype (tipo de programa para el antiguo Sistema Plus)\n",
    "\n",
    "tr_ie_programtype = stringmap[ (stringmap['objecttypecode'] == 'ie_program') & \\\n",
    "                       (stringmap['langid'] == 1033) & \\\n",
    "                       (stringmap['attributename'] == 'ie_programtype') ]\n",
    "ie_prog_progtype = pd.merge(ie_program, tr_ie_programtype, left_on = 'ie_programtype', \n",
    "                            right_on = 'attributevalue', how = 'left') [['ie_programid', 'value']] \\\n",
    "                           .drop_duplicates()\n",
    "ie_prog_progtype = ie_prog_progtype.rename(columns = {'value':'ie_programtype_displayname'})\n",
    "ie_program = pd.merge(ie_program, ie_prog_progtype, how = 'left', \\\n",
    "                      on = ['ie_programid', 'ie_programid']).drop_duplicates()\n",
    "\n",
    "\n",
    "# ie_untrueprogram (marca de si el programa es ficticio), por defecto imputaremos 'No'\n",
    "\n",
    "tr_ie_untrue = stringmap[ (stringmap['objecttypecode'] == 'ie_program') & \\\n",
    "                       (stringmap['langid'] == 1033) & \\\n",
    "                       (stringmap['attributename'] == 'ie_untrueprogram') ]\n",
    "ie_prog_untrue = pd.merge(ie_program, tr_ie_programtype, left_on = 'ie_untrueprogram', \n",
    "                            right_on = 'attributevalue', how = 'left') [['ie_programid', 'value']] \\\n",
    "                           .drop_duplicates()\n",
    "ie_prog_untrue = ie_prog_untrue.rename(columns = {'value':'ie_untrueprogram_displayname'})\n",
    "ie_prog_untrue['ie_untrueprogram_displayname'].fillna('No', inplace = True)\n",
    "ie_program = pd.merge(ie_program, ie_prog_untrue, how = 'left', \\\n",
    "                      on = ['ie_programid', 'ie_programid']).drop_duplicates()\n",
    "\n",
    "# ie_commercialized\n",
    "\n",
    "tr_ie_commercialized = stringmap[ (stringmap['objecttypecode'] == 'ie_program') & \\\n",
    "                       (stringmap['langid'] == 1033) & \\\n",
    "                       (stringmap['attributename'] == 'ie_commercialized') ] \n",
    "ie_prog_com = pd.merge(ie_program, tr_ie_commercialized, left_on = 'ie_commercialized', \n",
    "                       right_on = 'attributevalue', how = 'left') [['ie_programid', 'value']] \\\n",
    "                        .drop_duplicates()\n",
    "ie_prog_com = ie_prog_com.rename(columns = {'value':'ie_commercialized_displayname'})\n",
    "ie_program = pd.merge(ie_program, ie_prog_com, how = 'left', \\\n",
    "                      on = ['ie_programid', 'ie_programid']).drop_duplicates()\n",
    "\n",
    "# Borrado de columnas previas a la traducción\n",
    "\n",
    "ie_program = ie_program.drop(['ie_academiccatalog', 'ie_comercialcatalog', 'ie_programtype', \\\n",
    "                              'ie_commercialized', 'ie_untrueprogram'], axis = 1)"
   ]
  },
  {
   "cell_type": "code",
   "execution_count": 12,
   "metadata": {
    "collapsed": true
   },
   "outputs": [],
   "source": [
    "# Prevalencia de denominación Core asociado para programas provenientes de \n",
    "# combinaciones de Core + Specialization del antiguo sistema Plus\n",
    "\n",
    "ie_progtocore  = pd.read_csv('s3://iedatalakelanding/crm/IE_ProgramToProgramCore.csv.gz', \n",
    "                 sep = ';', compression = 'gzip', quotechar='|', quoting=csv.QUOTE_MINIMAL)\n",
    "\n",
    "cores = pd.merge(ie_program, ie_progtocore, left_on = 'ie_programid', \n",
    "         right_on = 'ie_pogramcatalog')[['ie_programid', 'ie_coreid']].drop_duplicates()\n",
    "\n",
    "cores = cores.rename(columns = {'ie_programid':'ie_programidSC'})\n",
    "\n",
    "cores = pd.merge(cores, ie_program, left_on='ie_coreid', right_on = 'ie_programid') \\\n",
    "        [['ie_coreid', 'ie_programidSC', 'ie_shortname', 'ie_longname' ]].drop_duplicates()\n",
    "\n",
    "cores = cores.rename(columns = {'ie_programidSC':'ie_programid', \\\n",
    "                                'ie_shortname':'ie_shortname_core', \n",
    "                                'ie_longname':'ie_longname_core'})\n",
    "\n",
    "ie_program = pd.merge(ie_program, cores, how = 'left', \\\n",
    "                      on = ['ie_programid', 'ie_programid']).drop_duplicates()\n",
    "\n",
    "ie_program.loc[ie_program['ie_coreid'].notnull(), 'ie_shortname'] = ie_program['ie_shortname_core']\n",
    "\n",
    "ie_program.loc[ie_program['ie_coreid'].notnull(), 'ie_longname'] = ie_program['ie_longname_core']\n",
    "\n",
    "# Borrado de columnas auxiliares para cores\n",
    "\n",
    "ie_program = ie_program.drop(['ie_coreid', 'ie_shortname_core', 'ie_longname_core'], \\\n",
    "                              axis = 1)"
   ]
  },
  {
   "cell_type": "code",
   "execution_count": 13,
   "metadata": {
    "collapsed": true
   },
   "outputs": [],
   "source": [
    "ie_program = ie_program.rename(columns = {'ie_programid':'ProgramId', \n",
    "                                         'ie_location_displayname':'Location', \n",
    "                                         'createdon':'CreationDate', \n",
    "                                         'ie_dirigidoa':'AimedAt',\n",
    "                                         'ie_languageidname':'Language',                                         \n",
    "                                         'ie_studytype_displayname':'StudyType',\n",
    "                                         'ie_program_crm_label':'CRMLabel',\n",
    "                                         'ie_shortname':'ShortName',\n",
    "                                         'ie_ieprogramid':'CorporateProgramId',\n",
    "                                         'ie_campusplace_displayname':'Campus',\n",
    "                                         'statecode_display_name':'Status', \n",
    "                                         'ie_format_displayname':'Format',\n",
    "                                         'ie_directoridname':'Director',\n",
    "                                         'ie_longname':'LongName',\n",
    "                                         'ie_programtypeid':'ProgramTypeId',\n",
    "                                         'ie_secretaryidname':'Secretary',\n",
    "                                         'ie_belongto_displayname':'BelongTo',\n",
    "                                         'ie_agrupationid': 'ProgramGroupId',\n",
    "                                         'ie_ieprogramtypeid': 'CorporateProgramTypeId',                                         \n",
    "                                         'ie_programcategory_displayname':'ProgramCategory',\n",
    "                                         'ie_programtype_name':'ProgramType', \n",
    "                                          'ie_ieschool':'School', \n",
    "                                          'ie_agrupation':'ProgramGroup',\n",
    "                                          'ie_academiccatalog_displayname':'IsInAcademicCatalog', \n",
    "                                          'ie_comercialcatalog_displayname':'IsInCommercialCatalog',\n",
    "                                          'ie_programtype_displayname':'PlusSystemProgramType', \n",
    "                                          'ie_untrueprogram_displayname':'IsUntrueProgram',\n",
    "                                          'ie_commercialized_displayname':'Commercialized'                                          \n",
    "                                         })"
   ]
  },
  {
   "cell_type": "code",
   "execution_count": 14,
   "metadata": {
    "collapsed": true
   },
   "outputs": [],
   "source": [
    "## Carpeta auxiliar para depositar los CSVs generados antes de subir\n",
    "\n",
    "if not os.path.exists(\"crm-data-in-shape\"):\n",
    "    os.makedirs(\"crm-data-in-shape\")\n",
    "\n",
    "csvFile = \"crm-data-in-shape/Program.csv.gz\"\n",
    "ie_program.to_csv(csvFile, sep = ';', compression = 'gzip', quotechar='|', quoting=csv.QUOTE_MINIMAL, \n",
    "                 encoding = 'utf8', mode= 'a', header = 'false', line_terminator = '\\n\\r')     \n"
   ]
  },
  {
   "cell_type": "code",
   "execution_count": 15,
   "metadata": {
    "collapsed": true
   },
   "outputs": [],
   "source": [
    "## Sincronización de carpeta local con carpeta análoga del bucket S3 iedatalakeprocess\n",
    "## Hace uso de AWSCLI (previamente instalado mediante la instrucción: sudo apt install awscli)\n",
    "\n",
    "transformationFinalDate = str(datetime.datetime.now())\n",
    "os.system('aws  s3 sync crm-data-in-shape s3://iedatalakeprocess/crm-data-in-shape --metadata transformationprocess=\"' \n",
    "          + transformationProcess + '\",transformationversion=\"' + transformationVersion \n",
    "          + '\",transformationinitialdate=\"' + transformationInitialDate \n",
    "          + '\",transformationfinaldate=\"' + transformationFinalDate + '\",code=\"Transform-Program-to-process\"');\n"
   ]
  },
  {
   "cell_type": "code",
   "execution_count": null,
   "metadata": {
    "collapsed": true
   },
   "outputs": [],
   "source": []
  }
 ],
 "metadata": {
  "kernelspec": {
   "display_name": "Python 3",
   "language": "python",
   "name": "python3"
  },
  "language_info": {
   "codemirror_mode": {
    "name": "ipython",
    "version": 3
   },
   "file_extension": ".py",
   "mimetype": "text/x-python",
   "name": "python",
   "nbconvert_exporter": "python",
   "pygments_lexer": "ipython3",
   "version": "3.6.1"
  }
 },
 "nbformat": 4,
 "nbformat_minor": 2
}
