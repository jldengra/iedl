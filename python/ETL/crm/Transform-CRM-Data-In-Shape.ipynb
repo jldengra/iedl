{
 "cells": [
  {
   "cell_type": "markdown",
   "metadata": {},
   "source": [
    "<table width='100%'>\n",
    "<tr>\n",
    "<td>\n",
    "<center><h1 style=\"font-size:2em;color:#505050\">Getting Data in Shape</h1>\n",
    "<h1 style=\"font-size:1em;color:#505050\">Data Preprocesing - Data Munging - Data Wrangling</h1>\n",
    "</center>\n",
    "</td>\n",
    "\n",
    "<td>\n",
    "<img align=\"middle\" style=\"width:360px;\" src = 'http://www.interlinkdata.co.uk/Images/CRMhead.png'>\n",
    "</td>\n",
    "</tr>\n",
    "</table>\n",
    "\n"
   ]
  },
  {
   "cell_type": "code",
   "execution_count": null,
   "metadata": {
    "collapsed": true
   },
   "outputs": [],
   "source": [
    "# Preproceso, manipulación y transformación de datos de CRM de ficheros en bruto en el bucket\n",
    "# iedatalakelanding hacia ficheros en un esquema unificado en el bucket iedatalakeprocess"
   ]
  },
  {
   "cell_type": "code",
   "execution_count": 1,
   "metadata": {
    "collapsed": true
   },
   "outputs": [],
   "source": [
    "# Program \n",
    "\n",
    "%run Transform-Program.py"
   ]
  },
  {
   "cell_type": "code",
   "execution_count": null,
   "metadata": {
    "collapsed": true
   },
   "outputs": [],
   "source": []
  }
 ],
 "metadata": {
  "kernelspec": {
   "display_name": "Python 3",
   "language": "python",
   "name": "python3"
  },
  "language_info": {
   "codemirror_mode": {
    "name": "ipython",
    "version": 3
   },
   "file_extension": ".py",
   "mimetype": "text/x-python",
   "name": "python",
   "nbconvert_exporter": "python",
   "pygments_lexer": "ipython3",
   "version": "3.6.1"
  }
 },
 "nbformat": 4,
 "nbformat_minor": 2
}
