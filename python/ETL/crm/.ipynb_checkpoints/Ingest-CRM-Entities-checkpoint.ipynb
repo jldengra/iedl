{
 "cells": [
  {
   "cell_type": "code",
   "execution_count": 2,
   "metadata": {
    "collapsed": true
   },
   "outputs": [],
   "source": [
    "## Importación al bucket iedatalakeLanding de entidades del CRM online\n",
    "## --------------------------------------------------------------------\n",
    "##\n",
    "## Las entidades necesarias se extraerán de la base de datos réplica de CRM online en bruto \n",
    "## prefiltradas para que no se incluyan registros que han sido borrados en CRM, y limitando\n",
    "## que los registros sean activos en CRM en aquellas entidades donde proceda. \n",
    "##\n",
    "## Para cada entidad, se creará un CSV en una subcarpeta \"data\" en la misma carpeta donde \n",
    "## se ejecuta el programa, que posteriormente se subirá junto al resto a la carpeta \"crm\" del bucket en S3.\n",
    "##\n",
    "## Los nombres de los ficheros generados llevarán los nombres de las tablas tal como vienen en \n",
    "## la réplica de CRM, y las columnas llevarán los mismos nombres que los campos de estas tablas, \n",
    "## preservando así en Landing su denominación original. \n",
    "\n",
    "import sqlalchemy\n",
    "import csv\n",
    "import string\n",
    "import pandas as pd\n",
    "import os\n",
    "import shutil\n",
    "import datetime\n",
    "import uuid\n",
    "import sys\n",
    "\n",
    "# Importación de opciones de configuración\n",
    "\n",
    "if (os.name == 'nt'):\n",
    "    sys.path.append('D:\\python\\config')\n",
    "else: \n",
    "    sys.path.append('/home/ubuntu/iedatalake/python/config')\n",
    "import databaseconfig as dbc\n"
   ]
  },
  {
   "cell_type": "code",
   "execution_count": 3,
   "metadata": {
    "collapsed": true
   },
   "outputs": [],
   "source": [
    "## Proceso, versíón y fecha de ingesta para identificar la ejecución\n",
    "\n",
    "ingestionProcess = 'Ingesta de Entidades CRM desde analytics01 en python'\n",
    "ingestionVersion = str(uuid.uuid1())\n",
    "ingestionInitialDate = str(datetime.datetime.now())\n",
    "\n",
    "## Motor SQLAlchemy para la base de datos SQL Server réplica del CRM online \n",
    "\n",
    "crmEngine = sqlalchemy.create_engine(dbc.crm['dialect'] + '+' + dbc.crm['driver'] + '://' \\\n",
    "      + dbc.crm['username'] + ':' + dbc.crm['password'] + '@' \\\n",
    "      + dbc.crm['host'] + '/' + dbc.crm['database'] + dbc.crm['parameters'])\n",
    "\n",
    "## Carpeta auxiliar para depositar los CSVs generados antes de subir\n",
    "\n",
    "if not os.path.exists(\"data\"):\n",
    "    os.makedirs(\"data\")\n"
   ]
  },
  {
   "cell_type": "code",
   "execution_count": 4,
   "metadata": {
    "collapsed": true
   },
   "outputs": [],
   "source": [
    "## Procedimiento de importación de una entidad de CRM a un fichero CSV local\n",
    "\n",
    "def ImportCRMEntity(entityName, **optionalParameters): \n",
    "    \n",
    "    # Ruta del fichero CSV, asumida en una subcarpeta \"data\" en la carpeta donde se ejecuta\n",
    "    # y extensión .csv.gz porque se generará comprimido en formato GZIP\n",
    "    \n",
    "    csvFile = optionalParameters.get('csvFile', 'data/' + entityName + '.csv.gz')\n",
    "    \n",
    "    # Parámetro opcional con filtro a aplicar para restringir a registros activos de la entidad.\n",
    "    # Por defecto es 'statecode = 0' al ser la condición que aplica a más entidades\n",
    "    \n",
    "    activeFilter = optionalParameters.get('activeFilter', 'statecode = 0')    \n",
    "       \n",
    "    # Parámetro opcional con el índice a aplicar al fichero CSV\n",
    "    \n",
    "    csvIndex = optionalParameters.get('csvIndex', None)\n",
    "    if (csvIndex == None):\n",
    "        csvIndex = str.lower(entityName + 'id')        \n",
    "    \n",
    "    # Parámetro opcional con el número de registros del bloque a recuperar de forma iterativa\n",
    "    \n",
    "    chunkSize = optionalParameters.get('chunkSize', None)\n",
    "    if (chunkSize == None):\n",
    "        # Si no viene de entrada ningún número de registros, no se limita, poniendo como alcance\n",
    "        # el número total de filas de la tabla de la entidad original\n",
    "        crmConnection = crmEngine.connect()\n",
    "        df = pd.io.sql.read_sql(\"SELECT COUNT(*) as recuento FROM \" + entityName, crmConnection)\n",
    "        chunkSize = int(df[\"recuento\"]) + 1\n",
    "        crmConnection.close()\n",
    "    else: \n",
    "        chunkSize = int(chunkSize)\n",
    "    \n",
    "    # Recuperación por base de datos de los registros de la entidad filtrados conforme \n",
    "    # a la condición de activo (si aplica) y a un número máximo de filas (si aplica)\n",
    "    # en un DataFrame que vuelca al fichero CSV destino para la entidad\n",
    "    \n",
    "    crmConnection = crmEngine.connect()\n",
    "    rowsPending = True\n",
    "    offset = 0\n",
    "    while rowsPending:\n",
    "        sqlSentence = \"WITH Results_SQL AS (SELECT \"        \n",
    "        sqlSentence += \"*, ROW_NUMBER() OVER (ORDER BY \" + csvIndex + \") as RowNum FROM \" + entityName\n",
    "        if (activeFilter != None):\n",
    "            sqlSentence += \" WHERE \" + activeFilter\n",
    "        sqlSentence += \") SELECT * FROM Results_SQL WHERE RowNum > \" + str(offset) + \" AND RowNum <=  \" \\\n",
    "            + str(offset + chunkSize)        \n",
    "        chunk = pd.io.sql.read_sql(sqlSentence, crmConnection)\n",
    "        # Borramos columna auxiliar RowNum usada para ordenar por el índice\n",
    "        del chunk[\"RowNum\"]\n",
    "        chunk.set_index(csvIndex, inplace = True)        \n",
    "        if (offset == 0):            \n",
    "            chunk.to_csv(csvFile, sep = ';', compression = 'gzip', quotechar='|', quoting=csv.QUOTE_MINIMAL, \n",
    "                 encoding = 'utf8', line_terminator = '\\n\\r')\n",
    "        else:            \n",
    "            chunk.to_csv(csvFile, sep = ';', compression = 'gzip', quotechar='|', quoting=csv.QUOTE_MINIMAL, \n",
    "                 encoding = 'utf8', mode= 'a', header = False, line_terminator = '\\n\\r')               \n",
    "        offset += chunkSize\n",
    "        if (len(chunk) < chunkSize):\n",
    "            rowsPending = False            \n",
    "        del chunk\n",
    "    crmConnection.close()\n",
    "        "
   ]
  },
  {
   "cell_type": "code",
   "execution_count": 5,
   "metadata": {
    "collapsed": true
   },
   "outputs": [],
   "source": [
    "## Procesamiento de la entidad BusinessUnit (Unidad de Negocio)\n",
    "\n",
    "ImportCRMEntity('BusinessUnit', activeFilter = 'isdisabled = 0')"
   ]
  },
  {
   "cell_type": "code",
   "execution_count": 5,
   "metadata": {
    "collapsed": true
   },
   "outputs": [],
   "source": [
    "## Procesamiento de la entidad Contact (Persona)\n",
    "\n",
    "ImportCRMEntity('Contact') #, chunkSize = '5000' )"
   ]
  },
  {
   "cell_type": "code",
   "execution_count": 6,
   "metadata": {
    "collapsed": true
   },
   "outputs": [],
   "source": [
    "## Procesamiento de la entidad IE_Admission (Solicitud de Admisión)\n",
    "\n",
    "ImportCRMEntity('IE_Admission')"
   ]
  },
  {
   "cell_type": "code",
   "execution_count": 7,
   "metadata": {
    "collapsed": true
   },
   "outputs": [],
   "source": [
    "## Procesamiento de la entidad IE_Agrupation (Agrupaciones de Programas). \n",
    "\n",
    "## Aunque \"Agrupation\" no exista en inglés y debieran haber puesto otra traducción más oportuna como\n",
    "## \"Program Group\", lo dejaramos así en Landing para preservar la nomenclatura original, pero en la \n",
    "## capa Process (o área de Staging) deberíamos normalizar esta denominación.\n",
    "\n",
    "ImportCRMEntity('IE_Agrupation')"
   ]
  },
  {
   "cell_type": "code",
   "execution_count": 8,
   "metadata": {
    "collapsed": true
   },
   "outputs": [],
   "source": [
    "## Procesamiento de la entidad IE_ApplicationFAFellowship (Beca / Fellowship)\n",
    "\n",
    "ImportCRMEntity('IE_ApplicationFAFellowship')"
   ]
  },
  {
   "cell_type": "code",
   "execution_count": 9,
   "metadata": {
    "collapsed": true
   },
   "outputs": [],
   "source": [
    "## Procesamiento de la entidad IE_Bonus (Bono)\n",
    "\n",
    "ImportCRMEntity('IE_Bonus')"
   ]
  },
  {
   "cell_type": "code",
   "execution_count": 10,
   "metadata": {
    "collapsed": true
   },
   "outputs": [],
   "source": [
    "## Procesamiento de la entidad IE_Country (País)\n",
    "\n",
    "ImportCRMEntity('IE_Country')"
   ]
  },
  {
   "cell_type": "code",
   "execution_count": 11,
   "metadata": {
    "collapsed": true
   },
   "outputs": [],
   "source": [
    "## Procesamiento de la entidad IE_DiscountsType (Tipo de Descuento)\n",
    "\n",
    "## No se excluyen inactivos para darle carácter histórico y disponer de tipos de descuento que hayan\n",
    "## sido aplicados en el pasado a becas o bonos, pero en la actualidad no se ofrezcan.\n",
    "\n",
    "ImportCRMEntity('IE_DiscountsType', activeFilter = None)"
   ]
  },
  {
   "cell_type": "code",
   "execution_count": 12,
   "metadata": {
    "collapsed": true
   },
   "outputs": [],
   "source": [
    "## Procesamiento de la entidad IE_GeographicalArea (Área Geográfica)\n",
    "\n",
    "ImportCRMEntity('IE_GeographicalArea')"
   ]
  },
  {
   "cell_type": "code",
   "execution_count": 13,
   "metadata": {
    "collapsed": true
   },
   "outputs": [],
   "source": [
    "## Procesamiento de la entidad IE_Grant (Solicitud de Ayuda Financiera / Scholarship)\n",
    "\n",
    "ImportCRMEntity('IE_Grant')"
   ]
  },
  {
   "cell_type": "code",
   "execution_count": 14,
   "metadata": {
    "collapsed": true
   },
   "outputs": [],
   "source": [
    "## Procesamiento de la entidad IE_Loan (Préstamo)\n",
    "\n",
    "ImportCRMEntity('IE_Loan')"
   ]
  },
  {
   "cell_type": "code",
   "execution_count": 15,
   "metadata": {
    "collapsed": true
   },
   "outputs": [],
   "source": [
    "## Procesamiento de la entidad relacional IE_IE_IESchool_IE_Program \n",
    "## (Asociación múltiple entre programas y escuelas)\n",
    "\n",
    "## No se requiere filtro de activo pues no tiene campo de estado.\n",
    "\n",
    "ImportCRMEntity('IE_IE_IESchool_IE_Program', activeFilter = None)\n"
   ]
  },
  {
   "cell_type": "code",
   "execution_count": 16,
   "metadata": {
    "collapsed": true
   },
   "outputs": [],
   "source": [
    "## Procesamiento de la entidad IE_IESchool (Escuela IE)\n",
    "\n",
    "ImportCRMEntity('IE_IESchool')"
   ]
  },
  {
   "cell_type": "code",
   "execution_count": 17,
   "metadata": {
    "collapsed": true
   },
   "outputs": [],
   "source": [
    "## Procesamiento de la entidad IE_Nationality (Nacionalidad)\n",
    "\n",
    "ImportCRMEntity('IE_Nationality')"
   ]
  },
  {
   "cell_type": "code",
   "execution_count": 18,
   "metadata": {
    "collapsed": true
   },
   "outputs": [],
   "source": [
    "## Procesamiento de la entidad relacional IE_NationalityPerson \n",
    "## (Asociación múltiple entre personas y nacionalidades, anexando cuando se puede un documento identificativo)\n",
    "\n",
    "ImportCRMEntity('IE_NationalityPerson')"
   ]
  },
  {
   "cell_type": "code",
   "execution_count": 19,
   "metadata": {
    "collapsed": true
   },
   "outputs": [],
   "source": [
    "## Procesamiento de la entidad IE_Program (Programa)\n",
    "\n",
    "## No se filtran programas activos pues en general necesitamos los programas con carácter histórico a fin\n",
    "## de poder hacer análisis evolutivos o comparativos a lo largo del tiempo.\n",
    "## Si en la capa de Process algún caso de uso requiriese limitar a activos, o comercializables, o atendiendo\n",
    "## a otros criterios, se aplicarían en la transformación que los obtenga en esa otra capa para esa finalidad.\n",
    "\n",
    "ImportCRMEntity('IE_Program', activeFilter = None)"
   ]
  },
  {
   "cell_type": "code",
   "execution_count": 20,
   "metadata": {
    "collapsed": true
   },
   "outputs": [],
   "source": [
    "## Procedamiento de la entidad IE_ProgramToProgramCore (equivalencia para el antiguo Sistema Plus)\n",
    "\n",
    "ImportCRMEntity('IE_ProgramToProgramCore')"
   ]
  },
  {
   "cell_type": "code",
   "execution_count": 21,
   "metadata": {
    "collapsed": true
   },
   "outputs": [],
   "source": [
    "## Procesamiento de la entidad IE_ProgramType (Tipo de Programa)\n",
    "\n",
    "## No se filtran tipos de programas activos para poder disponer de ellos con carácter histórico\n",
    "\n",
    "ImportCRMEntity('IE_ProgramType', activeFilter = None)"
   ]
  },
  {
   "cell_type": "code",
   "execution_count": 22,
   "metadata": {
    "collapsed": true
   },
   "outputs": [],
   "source": [
    "## Procesamiento de la entidad Opportunity (Oportunidad / Interés en Programa)\n",
    "\n",
    "## Limitado a 10000 registros hasta que se cambie el tipo de instancia y se pueda cargar todo en memoria.\n",
    "## No se filtran registros activos pues el campo de estado no tiene un valor \"Activo\" para esta entidad\n",
    "## sino que tiene tres posibles estados y ninguno de ellos lo podemos descartar en esta carga.\n",
    "\n",
    "ImportCRMEntity('Opportunity', chunkSize = '5000') # activeFilter = None) #, chunkSize = '5000')"
   ]
  },
  {
   "cell_type": "code",
   "execution_count": 23,
   "metadata": {
    "collapsed": true
   },
   "outputs": [],
   "source": [
    "## Procesamiento de la entidad Product (Producto o Convocatoria de un Programa)\n",
    "\n",
    "## No se filtran productos activos pues en general necesitamos las convocatorias con carácter histórico.\n",
    "\n",
    "ImportCRMEntity('Product', activeFilter = None)"
   ]
  },
  {
   "cell_type": "code",
   "execution_count": 24,
   "metadata": {
    "collapsed": true
   },
   "outputs": [],
   "source": [
    "## Procesamiento de StringMap (Catálogo de listas de valores y sus textos asociados)\n",
    "\n",
    "## No se requiere filtro de activo pues no tiene campo de estado. \n",
    "\n",
    "ImportCRMEntity('StringMap', activeFilter = None)"
   ]
  },
  {
   "cell_type": "code",
   "execution_count": 25,
   "metadata": {
    "collapsed": true
   },
   "outputs": [],
   "source": [
    "## Procesamiento de la entidad Team (Equipo de Ventas)\n",
    "\n",
    "## No se requiere filtro de activo pues no tiene campo de estado.\n",
    "\n",
    "ImportCRMEntity('Team', activeFilter = None)"
   ]
  },
  {
   "cell_type": "code",
   "execution_count": 26,
   "metadata": {
    "collapsed": true
   },
   "outputs": [],
   "source": [
    "## Celda auxiliar de comprobación para cargar CSV y visualizar como DataFrame de pandas\n",
    "\n",
    "##pd.read_csv('data/Team.csv.gz', sep = ';', compression = 'gzip', quotechar='|', quoting=csv.QUOTE_MINIMAL)"
   ]
  },
  {
   "cell_type": "code",
   "execution_count": 27,
   "metadata": {
    "collapsed": true,
    "scrolled": true
   },
   "outputs": [],
   "source": [
    "## Sincronización de carpeta local \"data\" con carpeta \"crm\" del bucket S3 iedatalakelanding\n",
    "## Hace uso de AWSCLI (previamente instalado mediante la instrucción: sudo apt install awscli)\n",
    "\n",
    "ingestionFinalDate = str(datetime.datetime.now())\n",
    "os.system('aws s3 sync data s3://iedatalakelanding/crm --metadata ingestionprocess=\"' + ingestionProcess  \n",
    "          + '\",ingestionversion=\"' + ingestionVersion + '\",ingestioninitialdate=\"' + ingestionInitialDate \n",
    "          + '\",ingestionfinaldate=\"' + ingestionFinalDate + '\",code=\"Ingest-CRM-Entities\"');\n"
   ]
  },
  {
   "cell_type": "code",
   "execution_count": 28,
   "metadata": {
    "collapsed": true
   },
   "outputs": [],
   "source": [
    "## Borrado de la carpeta auxiliar \"data\" y todos los ficheros generados en ella\n",
    "# shutil.rmtree('data')"
   ]
  },
  {
   "cell_type": "code",
   "execution_count": null,
   "metadata": {
    "collapsed": true
   },
   "outputs": [],
   "source": []
  }
 ],
 "metadata": {
  "kernelspec": {
   "display_name": "Python 3",
   "language": "python",
   "name": "python3"
  },
  "language_info": {
   "codemirror_mode": {
    "name": "ipython",
    "version": 3
   },
   "file_extension": ".py",
   "mimetype": "text/x-python",
   "name": "python",
   "nbconvert_exporter": "python",
   "pygments_lexer": "ipython3",
   "version": "3.6.1"
  }
 },
 "nbformat": 4,
 "nbformat_minor": 2
}
