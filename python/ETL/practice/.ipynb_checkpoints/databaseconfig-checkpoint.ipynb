{
 "cells": [
  {
   "cell_type": "code",
   "execution_count": null,
   "metadata": {
    "collapsed": true
   },
   "outputs": [],
   "source": [
    "#!/usr/bin/env python\n",
    "from sklearn import preprocessing\n",
    "mysql = {'host': 'localhost',\n",
    "         'user': 'root',\n",
    "         'passwd': 'my secret password',\n",
    "         'db': 'write-math'}\n",
    "#preprocessing_queue = [preprocessing.scale_and_center,\n",
    "#                       preprocessing.dot_reduction,\n",
    "#                       preprocessing.connect_lines]\n",
    "use_anonymous = True"
   ]
  }
 ],
 "metadata": {
  "kernelspec": {
   "display_name": "Python 3",
   "language": "python",
   "name": "python3"
  },
  "language_info": {
   "codemirror_mode": {
    "name": "ipython",
    "version": 3
   },
   "file_extension": ".py",
   "mimetype": "text/x-python",
   "name": "python",
   "nbconvert_exporter": "python",
   "pygments_lexer": "ipython3",
   "version": "3.6.1"
  }
 },
 "nbformat": 4,
 "nbformat_minor": 2
}
