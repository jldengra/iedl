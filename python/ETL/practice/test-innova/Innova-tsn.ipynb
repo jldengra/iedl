{
 "cells": [
  {
   "cell_type": "code",
   "execution_count": 1,
   "metadata": {
    "collapsed": true
   },
   "outputs": [],
   "source": [
    "#!/usr/bin/env python\n",
    "# -*- coding: utf-8 -*-\n",
    "#\n",
    "#  Script de presentacion a IE\n",
    "#  El codigo fue desarrollado por Juan Luis Rivero de Innova-tsn\n",
    "#"
   ]
  },
  {
   "cell_type": "code",
   "execution_count": 8,
   "metadata": {
    "collapsed": true
   },
   "outputs": [],
   "source": [
    "import sqlite3\n",
    "import os\n",
    "import numpy as np\n",
    "import pandas as pd\n",
    "from pandas import DataFrame as df\n",
    "from collections import defaultdict\n"
   ]
  },
  {
   "cell_type": "code",
   "execution_count": 9,
   "metadata": {
    "collapsed": true
   },
   "outputs": [],
   "source": [
    "def make_dir(file_path):\n",
    "    directory = os.path.dirname(file_path)\n",
    "    if not os.path.exists(directory):\n",
    "        os.makedirs(directory)\n",
    "        \n",
    "def isNaN(x):\n",
    "    return str(x) == str(1e400*0)"
   ]
  },
  {
   "cell_type": "code",
   "execution_count": 10,
   "metadata": {
    "collapsed": true
   },
   "outputs": [],
   "source": [
    "# Constantes\n",
    "tables = ['media_types','genres','playlists','playlist_track','tracks','artists','invoices','invoice_items','albums','customers','employees']\n",
    "DIR_SALIDA = './ingesta/'\n",
    "DIR_TRANSFORMACION = './transformacion/'\n",
    "FILE_TRANSFORMACION = './transformacion/canciones.csv.gz'"
   ]
  },
  {
   "cell_type": "code",
   "execution_count": 11,
   "metadata": {
    "collapsed": true
   },
   "outputs": [],
   "source": [
    "# Leer tablas, cargarlas en pandas DataFrame y sacarlas a ficheros csv\n",
    "make_dir(DIR_SALIDA)\n",
    "con = sqlite3.connect(\"chinook.db\")\n",
    "\n",
    "for tab in tables:\n",
    "    query = 'SELECT * from ' + str(tab)\n",
    "    df = pd.read_sql_query(query, con)\n",
    "    file_out = DIR_SALIDA + str(tab) + '.csv.gz'\n",
    "    df.to_csv(file_out, sep=';', encoding='utf-8',compression='gzip',index=False)\n",
    "\n",
    "con.close()"
   ]
  },
  {
   "cell_type": "code",
   "execution_count": 12,
   "metadata": {
    "collapsed": true
   },
   "outputs": [],
   "source": [
    "############################################################################################################\n",
    "# OBJETIVO 1: Leer bloques de 100 en 100 la tabla artist y dejarlo en ficheros csv para su posterior union #\n",
    "############################################################################################################\n",
    "con = sqlite3.connect(\"chinook.db\")\n",
    "c = con.cursor()\n",
    "tabla = 'artists'\n",
    "query = 'SELECT  count(*) from ' + str(tabla)\n",
    "c.execute(query)\n",
    "registros = c.fetchone()[0]\n",
    "\n",
    "n = 0\n",
    "for i in range(0,registros,100):\n",
    "    \n",
    "    query = 'SELECT * from ' + str(tabla) + ' LIMIT ' + str(i) + ',100'\n",
    "    df = pd.read_sql_query(query, con)\n",
    "    if i == 0:\n",
    "        file_out = DIR_SALIDA + '00000.csv.gz'\n",
    "        df.to_csv(file_out, sep=';', encoding='utf-8',compression='gzip',index=False)\n",
    "    else:\n",
    "        file_out = DIR_SALIDA + '00000_' + str(n) + '.csv.gz'\n",
    "        df.to_csv(file_out, sep=';', encoding='utf-8',compression='gzip',index=False,header=False)\n",
    "        \n",
    "    n += 1\n",
    "    \n",
    "con.close()"
   ]
  },
  {
   "cell_type": "code",
   "execution_count": 13,
   "metadata": {
    "collapsed": true
   },
   "outputs": [],
   "source": [
    "# Transformacion\n",
    "make_dir(DIR_TRANSFORMACION)\n",
    "\n",
    "media_types = pd.read_csv(DIR_SALIDA + 'media_types.csv.gz', sep=';', encoding='utf-8', compression='gzip', dtype={'MediaTypeId':np.int})\n",
    "tracks = pd.read_csv(DIR_SALIDA + 'tracks.csv.gz', sep=';', encoding='utf-8', compression='gzip', dtype={'TrackId':np.int,'AlbumId':np.int,'MediaTypeId':np.int})\n",
    "albums = pd.read_csv(DIR_SALIDA + 'albums.csv.gz', sep=';', encoding='utf-8', compression='gzip', dtype={'AlbumId':np.int,'ArtistId':np.int})\n",
    "artists = pd.read_csv(DIR_SALIDA + 'artists.csv.gz', sep=';', encoding='utf-8', compression='gzip', dtype={'ArtistId':np.int})\n",
    "customers = pd.read_csv(DIR_SALIDA + 'customers.csv.gz', sep=';', encoding='utf-8', compression='gzip', dtype={'CustomerId':np.int,'SupportRepId':np.int})\n",
    "invoices = pd.read_csv(DIR_SALIDA + 'invoices.csv.gz', sep=';', encoding='utf-8', compression='gzip', dtype={'CustomerId':np.int,'InvoiceId':np.int})\n",
    "invoice_items = pd.read_csv(DIR_SALIDA + 'invoice_items.csv.gz', sep=';', encoding='utf-8', compression='gzip', dtype={'InvoideItemId':np.int,'InvoiceId':np.int,'TrackId':np.int,'UnitPrice':np.float,'Quantity':np.int})\n",
    "genres =  pd.read_csv(DIR_SALIDA + 'genres.csv.gz', sep=';', encoding='utf-8', compression='gzip', dtype={'GenreId':np.int})\n"
   ]
  },
  {
   "cell_type": "code",
   "execution_count": 14,
   "metadata": {
    "collapsed": true
   },
   "outputs": [],
   "source": [
    "########################################################################################################################\n",
    "# OBJETIVO 2                                                                                                           #\n",
    "########################################################################################################################\n",
    "\n",
    "#Album\n",
    "tracks = pd.merge(tracks, albums, on='AlbumId', how='left')\n",
    "tracks.rename(columns={'Title': 'AlbumTitle','Name': 'TrackName'}, inplace=True)\n",
    "tracks['AlbumTitle'] = tracks['AlbumTitle'].apply(lambda x: x.upper().strip())\n",
    "tracks.drop('AlbumId', axis=1, inplace=True)\n"
   ]
  },
  {
   "cell_type": "code",
   "execution_count": 15,
   "metadata": {
    "collapsed": true
   },
   "outputs": [],
   "source": [
    "# Interprete\n",
    "tracks = pd.merge(tracks, artists, on='ArtistId', how='left')\n",
    "tracks.rename(columns={'Name': 'ArtistName'}, inplace=True)\n",
    "tracks['ArtistName'] = tracks['ArtistName'].apply(lambda x: x.title().strip())\n",
    "tracks.drop('ArtistId', axis=1, inplace=True)"
   ]
  },
  {
   "cell_type": "code",
   "execution_count": 16,
   "metadata": {
    "collapsed": true
   },
   "outputs": [],
   "source": [
    "# Genero\n",
    "tracks = pd.merge(tracks, genres, on='GenreId', how='left')\n",
    "tracks.rename(columns={'Name': 'GenreName'}, inplace=True)\n",
    "tracks.drop('GenreId', axis=1, inplace=True)"
   ]
  },
  {
   "cell_type": "code",
   "execution_count": 17,
   "metadata": {
    "collapsed": true
   },
   "outputs": [],
   "source": [
    "# Media type\n",
    "tracks = pd.merge(tracks, media_types, on='MediaTypeId', how='left')\n",
    "tracks.rename(columns={'Name': 'MediaName'}, inplace=True)\n",
    "tracks.drop('MediaTypeId', axis=1, inplace=True)"
   ]
  },
  {
   "cell_type": "code",
   "execution_count": 18,
   "metadata": {
    "collapsed": true
   },
   "outputs": [],
   "source": [
    "canciones = defaultdict(list)\n",
    "\n",
    "for invo in range(len(invoices)):\n",
    "    ix_invoices = invoices.loc[invo,'CustomerId']\n",
    "    nombre = customers[customers['CustomerId'] == ix_invoices]['FirstName'].values[0].upper()\n",
    "    apellido = customers[customers['CustomerId'] == ix_invoices]['LastName'].values[0].upper()\n",
    "    nombre_completo = nombre + ' ' + apellido\n",
    "    empresa = customers[customers['CustomerId'] == ix_invoices]['Company'].values[0]\n",
    "    if isNaN(empresa):\n",
    "        empresa = 'N/A'\n",
    "    else:\n",
    "        empresa = str(empresa)\n",
    "        \n",
    "    invoice_ix = invoices[invoices['CustomerId'] == ix_invoices]['InvoiceId'].values[0]\n",
    "    items = invoice_items[invoice_items['InvoiceId'] == invoice_ix]\n",
    "    for i in range(len(items)):\n",
    "        canciones[int(invoice_items.loc[i,'TrackId'])].append((nombre_completo,empresa,invoice_items.loc[i,'UnitPrice'],int(invoice_items.loc[i,'Quantity'])))"
   ]
  },
  {
   "cell_type": "code",
   "execution_count": 19,
   "metadata": {
    "collapsed": true
   },
   "outputs": [],
   "source": [
    "tracks['Users'] = None\n",
    "\n",
    "for key in canciones.keys():\n",
    "    #print(key)\n",
    "    ix_track = tracks[tracks['TrackId']==key].index[0]\n",
    "    #print (ix_track)\n",
    "    tracks.set_value(ix_track,'Users', canciones[key])\n",
    "\n",
    "tracks.to_csv(DIR_TRANSFORMACION + 'canciones.csv.gz',sep=';', encoding='utf-8', compression='gzip')"
   ]
  },
  {
   "cell_type": "code",
   "execution_count": null,
   "metadata": {
    "collapsed": true
   },
   "outputs": [],
   "source": []
  }
 ],
 "metadata": {
  "kernelspec": {
   "display_name": "Python 3",
   "language": "python",
   "name": "python3"
  },
  "language_info": {
   "codemirror_mode": {
    "name": "ipython",
    "version": 3
   },
   "file_extension": ".py",
   "mimetype": "text/x-python",
   "name": "python",
   "nbconvert_exporter": "python",
   "pygments_lexer": "ipython3",
   "version": "3.6.1"
  }
 },
 "nbformat": 4,
 "nbformat_minor": 2
}
