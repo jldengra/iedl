{
 "cells": [
  {
   "cell_type": "code",
   "execution_count": 1,
   "metadata": {
    "collapsed": true
   },
   "outputs": [],
   "source": [
    "#!/usr/bin/env python\n",
    "# -*- coding: utf-8 -*-\n",
    "#\n",
    "#  Script de presentacion a IE\n",
    "#  El codigo fue desarrollado por Juan Luis Rivero de Innova-tsn\n",
    "#"
   ]
  },
  {
   "cell_type": "code",
   "execution_count": 2,
   "metadata": {
    "collapsed": true
   },
   "outputs": [],
   "source": [
    "import sqlite3\n",
    "import os\n",
    "import numpy as np\n",
    "import pandas as pd\n",
    "from pandas import DataFrame as df\n",
    "from collections import defaultdict\n"
   ]
  },
  {
   "cell_type": "code",
   "execution_count": 3,
   "metadata": {
    "collapsed": true
   },
   "outputs": [],
   "source": [
    "def make_dir(file_path):\n",
    "    directory = os.path.dirname(file_path)\n",
    "    if not os.path.exists(directory):\n",
    "        os.makedirs(directory)\n",
    "        \n",
    "def isNaN(x):\n",
    "    return str(x) == str(1e400*0)"
   ]
  },
  {
   "cell_type": "code",
   "execution_count": 4,
   "metadata": {
    "collapsed": true
   },
   "outputs": [],
   "source": [
    "# Constantes\n",
    "tables = ['media_types','genres','playlists','playlist_track','tracks','artists','invoices','invoice_items','albums','customers','employees']\n",
    "DIR_SALIDA = './ingesta/'\n",
    "DIR_TRANSFORMACION = './transformacion/'\n",
    "FILE_TRANSFORMACION = './transformacion/canciones.csv.gz'"
   ]
  },
  {
   "cell_type": "code",
   "execution_count": 5,
   "metadata": {
    "collapsed": true
   },
   "outputs": [],
   "source": [
    "# Leer tablas, cargarlas en pandas DataFrame y sacarlas a ficheros csv\n",
    "make_dir(DIR_SALIDA)\n",
    "con = sqlite3.connect(\"chinook.db\")\n",
    "\n",
    "for tab in tables:\n",
    "    query = 'SELECT * from ' + str(tab)\n",
    "    df = pd.read_sql_query(query, con)\n",
    "    file_out = DIR_SALIDA + str(tab) + '.csv.gz'\n",
    "    df.to_csv(file_out, sep=';', encoding='utf-8',compression='gzip',index=False)\n",
    "\n",
    "con.close()"
   ]
  },
  {
   "cell_type": "code",
   "execution_count": null,
   "metadata": {
    "collapsed": true
   },
   "outputs": [],
   "source": []
  }
 ],
 "metadata": {
  "kernelspec": {
   "display_name": "Python 3",
   "language": "python",
   "name": "python3"
  },
  "language_info": {
   "codemirror_mode": {
    "name": "ipython",
    "version": 3
   },
   "file_extension": ".py",
   "mimetype": "text/x-python",
   "name": "python",
   "nbconvert_exporter": "python",
   "pygments_lexer": "ipython3",
   "version": "3.6.1"
  }
 },
 "nbformat": 4,
 "nbformat_minor": 2
}
