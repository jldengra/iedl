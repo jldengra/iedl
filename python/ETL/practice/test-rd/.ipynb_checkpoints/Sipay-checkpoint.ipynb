{
 "cells": [
  {
   "cell_type": "markdown",
   "metadata": {},
   "source": [
    "# Autor: Magali Valdepérez Pastor"
   ]
  },
  {
   "cell_type": "markdown",
   "metadata": {},
   "source": [
    "# VERSIONES EMPLEADAS"
   ]
  },
  {
   "cell_type": "code",
   "execution_count": 1,
   "metadata": {
    "collapsed": false
   },
   "outputs": [
    {
     "name": "stdout",
     "output_type": "stream",
     "text": [
      "Python version: 3.5.2\n",
      "Numpy version: 1.10.4\n",
      "Pandas version: 0.18.1\n",
      "\n"
     ]
    }
   ],
   "source": [
    "import platform\n",
    "print('Python version: '+ platform.python_version())\n",
    "import numpy as np\n",
    "print ('Numpy version: '+ np.__version__)\n",
    "import pandas as pd\n",
    "print ('Pandas version: '+ pd.__version__ + '\\n')"
   ]
  },
  {
   "cell_type": "markdown",
   "metadata": {},
   "source": [
    "# PRUEBA 1: UN POCO DE ARITMÉTICA\n",
    "\n",
    "Tenemos los tiempos de cada ciclista y etapa participantes en la última vuelta ciclista local.\n",
    "La lista de ciclistas contiene una serie de nombres.\n",
    "La matriz tiempos tiene una fila por cada ciclista, en el mismo orden con que aparecen en ciclistas.\n",
    "Cada fila tiene el tiempo en segundos (un valor flotante) invertido en cada una de las 5 etapas de la carrera."
   ]
  },
  {
   "cell_type": "code",
   "execution_count": 2,
   "metadata": {
    "collapsed": false
   },
   "outputs": [
    {
     "name": "stdout",
     "output_type": "stream",
     "text": [
      "ciclistas=  ['Pere Porcar', 'Joan Beltran', 'Lledó Fabra']\n",
      "tiempo=  [[  10092.    12473.1   13732.3   10232.1   10332.3]\n",
      " [  11762.2   11161.2   12272.1   11292.    12534. ]\n",
      " [ 101934.4   10292.1   11712.9   10133.4   11632. ]]\n"
     ]
    }
   ],
   "source": [
    "ciclistas=['Pere Porcar', 'Joan Beltran', 'Lledó Fabra']\n",
    "t1=[10092.0, 12473.1, 13732.3, 10232.1, 10332.3]\n",
    "t2=[11762.2, 11161.2, 12272.1, 11292.0, 12534.0]\n",
    "t3=[101934.4, 10292.1, 11712.9, 10133.4, 11632.0]\n",
    "tiempo=np.array([t1, t2, t3])\n",
    "print ('ciclistas= ',ciclistas)\n",
    "print ('tiempo= ',tiempo)"
   ]
  },
  {
   "cell_type": "markdown",
   "metadata": {},
   "source": [
    "####  Una función que reciba la lista y la matriz y devuelva el ganador de la vuelta (aquel cuya suma de tiempos en las 5 etapas es mínima"
   ]
  },
  {
   "cell_type": "code",
   "execution_count": 3,
   "metadata": {
    "collapsed": false
   },
   "outputs": [
    {
     "data": {
      "text/plain": [
       "'Pere Porcar'"
      ]
     },
     "execution_count": 3,
     "metadata": {},
     "output_type": "execute_result"
    }
   ],
   "source": [
    "def ganador_vuelta(lista, array):         \n",
    "    suma_tiempos=np.sum(array, axis=1)  \n",
    "    #Posición del elemento mínimo teniendo en cuenta la existencia de nan (not a number)\n",
    "    indice=np.nanargmin(suma_tiempos,axis=0)\n",
    "    ganador=ciclistas[indice]\n",
    "    return ganador\n",
    "ganador_vuelta(ciclistas,tiempo)"
   ]
  },
  {
   "cell_type": "markdown",
   "metadata": {},
   "source": [
    "####  Una función que reciba la lista, la matriz y un número de etapa y devuelva el nombre del ganador de la etapa."
   ]
  },
  {
   "cell_type": "code",
   "execution_count": 4,
   "metadata": {
    "collapsed": false
   },
   "outputs": [
    {
     "name": "stdout",
     "output_type": "stream",
     "text": [
      "COMPROBACION DE RESULTADOS\n",
      "\n",
      "Ganador etapa 1 :  Pere Porcar\n",
      "Ganador etapa 2 :  Lledó Fabra\n",
      "Ganador etapa 3 :  Lledó Fabra\n",
      "Ganador etapa 4 :  Lledó Fabra\n",
      "Ganador etapa 5 :  Pere Porcar\n"
     ]
    }
   ],
   "source": [
    "def ganador_etapa(lista, array, numero_etapa):\n",
    "    tiempos_etapa=array[:,numero_etapa-1]\n",
    "    posicion_tiempo_minimo=np.argmin(tiempos_etapa)\n",
    "    ganador=lista[posicion_tiempo_minimo]\n",
    "    return ganador\n",
    "\n",
    "#Comprobación de resultados\n",
    "print ('COMPROBACION DE RESULTADOS'+'\\n')\n",
    "for i in range (1,6):\n",
    "    print ('Ganador etapa '+ str(i)+' : ',ganador_etapa(ciclistas,tiempo,i))"
   ]
  },
  {
   "cell_type": "markdown",
   "metadata": {},
   "source": [
    "####  Una función que reciba la lista, la matriz y muestre por pantalla el ganador de cada una de las etapas."
   ]
  },
  {
   "cell_type": "code",
   "execution_count": 5,
   "metadata": {
    "collapsed": false
   },
   "outputs": [
    {
     "name": "stdout",
     "output_type": "stream",
     "text": [
      "Ganador etapa 1 :  Pere Porcar\n",
      "Ganador etapa 3 :  Lledó Fabra\n",
      "Ganador etapa 3 :  Lledó Fabra\n",
      "Ganador etapa 3 :  Lledó Fabra\n",
      "Ganador etapa 1 :  Pere Porcar\n"
     ]
    }
   ],
   "source": [
    "#Se puede hacer con la definición de la función anterior, metiendo en una función la comprobación de resultados de la celda \n",
    "#anterior\n",
    "#Alternativa:\n",
    "def ganador_por_etapa(lista,array):    \n",
    "    #indices de mínimos tiempos por fila\n",
    "    indices_minimos_tiempos=np.argmin(array,axis=0)    \n",
    "    for i in indices_minimos_tiempos:\n",
    "        print ('Ganador etapa '+ str(i+1)+' : ', ciclistas[i])    \n",
    "    return \n",
    "ganador_por_etapa(ciclistas,tiempo)"
   ]
  },
  {
   "cell_type": "markdown",
   "metadata": {},
   "source": [
    "# PRUEBA 2: NÚMEROS PRIMOS\n",
    "Crear un programa en Python que calcule números primos y los imprima por pantalla.\n",
    "Hasta el infinito o un buen CONTROL+C. \n",
    "Solo se podrán utiliza funciones builtin o que vengan con Python."
   ]
  },
  {
   "cell_type": "code",
   "execution_count": 6,
   "metadata": {
    "collapsed": false
   },
   "outputs": [],
   "source": [
    "import itertools\n",
    "def numeros_primos():\n",
    "     # iterador de todos los números primos mayores que 2\n",
    "     primos = itertools.count(2)\n",
    "\n",
    "     # generador de primos\n",
    "     while True:\n",
    "         # obtener el primer primo del iterador\n",
    "         primo = next(primos)\n",
    "         yield primo\n",
    "\n",
    "         # generacion de secuencia de primos: filtrado de elementos del iterador que verifican la función rmod (son primos)\n",
    "         \n",
    "         primos = filter(primo.__rmod__, primos)\n",
    "        \n",
    "#El siguiente código completaría el programa (primos.py) para terminar con Ctrl+c (aparece comentado)\n",
    "#for p in numeros_primos():       \n",
    "    #print (p)"
   ]
  },
  {
   "cell_type": "code",
   "execution_count": 7,
   "metadata": {
    "collapsed": false
   },
   "outputs": [
    {
     "name": "stdout",
     "output_type": "stream",
     "text": [
      "COMPROBACION DE RESULTADOS\n",
      "\n",
      "2\n",
      "3\n",
      "5\n",
      "7\n",
      "11\n",
      "13\n",
      "17\n",
      "19\n",
      "23\n",
      "29\n",
      "31\n"
     ]
    }
   ],
   "source": [
    "#Comprobación de resultados en Notebook:\n",
    "print ('COMPROBACION DE RESULTADOS'+'\\n')\n",
    "for num in numeros_primos():\n",
    "    if num > 34:\n",
    "        break\n",
    "    print (num)"
   ]
  },
  {
   "cell_type": "markdown",
   "metadata": {},
   "source": [
    "# PRUEBA 3: AMIGO INVISIBLE\n",
    "10 amigos: Pixie, Dixie, Tom, Jerry, Piolín, Lucas, Correcaminos, Donald, Mickey, Pluto.\n",
    "\n",
    "Calcular en 1000 iteraciones el porcentaje de coincidencias.\n",
    "\n",
    "Mostrar por pantalla los 5 emparejamientos más habituales y su porcentaje.\n",
    "\n",
    "Ejemplo: Si el emparejamiento Tom y Jerry sale 500 veces repetido, tendrá un 50% de coincidencias."
   ]
  },
  {
   "cell_type": "markdown",
   "metadata": {},
   "source": [
    "## Duda:\n",
    "En el enunciado no se contempla la posibilidad de que haya valores de pocentajes repetidos==>habría más de 5 emparejamientos"
   ]
  },
  {
   "cell_type": "code",
   "execution_count": 8,
   "metadata": {
    "collapsed": false
   },
   "outputs": [
    {
     "name": "stdout",
     "output_type": "stream",
     "text": [
      "Los 5 emparejamientos más habituales y sus porcentajes son: \n",
      "\n"
     ]
    },
    {
     "name": "stderr",
     "output_type": "stream",
     "text": [
      "/opt/conda/lib/python3.5/site-packages/ipykernel/__main__.py:38: FutureWarning: sort(columns=....) is deprecated, use sort_values(by=.....)\n"
     ]
    },
    {
     "data": {
      "text/html": [
       "<div>\n",
       "<table border=\"1\" class=\"dataframe\">\n",
       "  <thead>\n",
       "    <tr style=\"text-align: right;\">\n",
       "      <th></th>\n",
       "      <th>Amigo 1</th>\n",
       "      <th>Amigo 2</th>\n",
       "      <th>Porcentaje de coincidencias</th>\n",
       "    </tr>\n",
       "  </thead>\n",
       "  <tbody>\n",
       "    <tr>\n",
       "      <th>0</th>\n",
       "      <td>Pixie</td>\n",
       "      <td>Tom</td>\n",
       "      <td>13.9</td>\n",
       "    </tr>\n",
       "    <tr>\n",
       "      <th>1</th>\n",
       "      <td>Lucas</td>\n",
       "      <td>Piolín</td>\n",
       "      <td>13.2</td>\n",
       "    </tr>\n",
       "    <tr>\n",
       "      <th>2</th>\n",
       "      <td>Jerry</td>\n",
       "      <td>Pluto</td>\n",
       "      <td>13.2</td>\n",
       "    </tr>\n",
       "    <tr>\n",
       "      <th>3</th>\n",
       "      <td>Dixie</td>\n",
       "      <td>Donald</td>\n",
       "      <td>13.0</td>\n",
       "    </tr>\n",
       "    <tr>\n",
       "      <th>4</th>\n",
       "      <td>Correcaminos</td>\n",
       "      <td>Dixie</td>\n",
       "      <td>12.1</td>\n",
       "    </tr>\n",
       "  </tbody>\n",
       "</table>\n",
       "</div>"
      ],
      "text/plain": [
       "        Amigo 1 Amigo 2  Porcentaje de coincidencias\n",
       "0         Pixie     Tom                         13.9\n",
       "1         Lucas  Piolín                         13.2\n",
       "2         Jerry   Pluto                         13.2\n",
       "3         Dixie  Donald                         13.0\n",
       "4  Correcaminos   Dixie                         12.1"
      ]
     },
     "execution_count": 8,
     "metadata": {},
     "output_type": "execute_result"
    }
   ],
   "source": [
    "import pandas as pd\n",
    "\n",
    "def generar_amigos(lista):\n",
    "    '''Genera listas aleatorias de una lista dada'''\n",
    "    import random\n",
    "    random.shuffle(lista)\n",
    "    return lista\n",
    "\n",
    "def pop_random(lista):\n",
    "    '''Selecciona aleatoriamente un elemento de la lista por índice y borra elemento correspondiente'''\n",
    "    import random\n",
    "    indice = random.randrange(0, len(lista))\n",
    "    return lista.pop(indice)\n",
    "\n",
    "def generar_parejas(lista):\n",
    "    '''Genera una lista de parejas ordenada alfabéticamente a partir de una lista predeterminada'''\n",
    "    parejas=[]     \n",
    "    while lista:\n",
    "        elemento_1 = pop_random(lista)\n",
    "        elemento_2 = pop_random(lista)\n",
    "        pareja = elemento_1, elemento_2\n",
    "        parejas.append(sorted(pareja))          \n",
    "    return parejas    \n",
    "\n",
    "total_parejas=[]\n",
    "\n",
    "#Obtener parejas de amigos aleatorias \n",
    "for i in range(1000):            \n",
    "    amigos=['Pixie', 'Dixie', 'Tom', 'Jerry', 'Piolín', 'Lucas', 'Correcaminos', 'Donald', 'Mickey', 'Pluto']\n",
    "    amigos_aleatorio=generar_amigos(amigos)\n",
    "    parejas=generar_parejas(amigos_aleatorio)\n",
    "    total_parejas.extend(parejas)\n",
    "#ESTADISTICAS\n",
    "parejas_df=pd.DataFrame(total_parejas)\n",
    "parejas_df.columns = ['Amigo 1', 'Amigo 2']\n",
    "#Cálculo de parejas repetidas y porcentajes de coincidencia en orden ascendente\n",
    "repeticiones_df = parejas_df.groupby(['Amigo 1', 'Amigo 2']).size().reset_index().rename(columns={0:'Repeticiones'})\n",
    "repeticiones_ordenado_df=repeticiones_df.sort(['Repeticiones'], ascending=0)\n",
    "repeticiones_ordenado_df['Porcentaje de coincidencias']=repeticiones_ordenado_df['Repeticiones']/10\n",
    "porcentajes_df=repeticiones_ordenado_df[['Amigo 1', 'Amigo 2', 'Porcentaje de coincidencias']]\n",
    "#Puede haber valores de porcentajes que se repitan==>habría más de 5 emparejamientos (ESTO NO SE CONTEMPLA EN EL ENUNCIADO)\n",
    "print ('Los 5 emparejamientos más habituales y sus porcentajes son: '+'\\n')\n",
    "resultado_df=porcentajes_df.head(5)\n",
    "resultado_df=resultado_df.reset_index(drop=True)\n",
    "resultado_df"
   ]
  }
 ],
 "metadata": {
  "anaconda-cloud": {},
  "kernelspec": {
   "display_name": "Python [default]",
   "language": "python",
   "name": "python3"
  },
  "language_info": {
   "codemirror_mode": {
    "name": "ipython",
    "version": 3
   },
   "file_extension": ".py",
   "mimetype": "text/x-python",
   "name": "python",
   "nbconvert_exporter": "python",
   "pygments_lexer": "ipython3",
   "version": "3.5.2"
  }
 },
 "nbformat": 4,
 "nbformat_minor": 1
}
